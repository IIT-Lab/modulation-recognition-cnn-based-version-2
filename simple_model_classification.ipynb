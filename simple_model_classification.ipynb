{
 "cells": [
  {
   "cell_type": "code",
   "execution_count": 1,
   "metadata": {},
   "outputs": [
    {
     "name": "stderr",
     "output_type": "stream",
     "text": [
      "Using TensorFlow backend.\n"
     ]
    }
   ],
   "source": [
    "import numpy as np\n",
    "import matplotlib.pyplot as plt\n",
    "%matplotlib inline\n",
    "from keras.layers import merge\n",
    "from keras.layers.convolutional import Conv2D\n",
    "from keras.layers.convolutional import MaxPooling2D, ZeroPadding2D, AveragePooling2D\n",
    "from keras.layers.core import Dense, Activation, Flatten, Reshape, Lambda\n",
    "from keras.layers.normalization import BatchNormalization\n",
    "from keras.models import Model\n",
    "from keras.layers import Input\n",
    "from keras.optimizers import SGD, adam\n",
    "import scipy.io as sio\n",
    "from keras import layers\n",
    "from sklearn.model_selection import train_test_split\n",
    "from keras.callbacks import ReduceLROnPlateau, EarlyStopping\n",
    "from keras import optimizers\n",
    "from sklearn.metrics import confusion_matrix\n",
    "import itertools"
   ]
  },
  {
   "cell_type": "code",
   "execution_count": 2,
   "metadata": {},
   "outputs": [
    {
     "name": "stdout",
     "output_type": "stream",
     "text": [
      "(180000, 2, 1024)\n",
      "(180000, 9)\n"
     ]
    }
   ],
   "source": [
    "classes = ['BPSK','QPSK','8PSK','16QAM','64QAM','2FSK','4FSK','8FSK','GMSK']\n",
    "inp_f = np.load('.\\\\dataset\\\\recognise\\\\fsk_data.npy')\n",
    "inp_p = np.load('.\\\\dataset\\\\recognise\\\\psk_data.npy')\n",
    "inp_q = np.load('.\\\\dataset\\\\recognise\\\\qam_data.npy')\n",
    "inp_g = np.load('.\\\\dataset\\\\recognise\\\\gmsk_data.npy')\n",
    "X_train = np.concatenate([inp_p,inp_q,inp_f,inp_g])\n",
    "print(X_train.shape)\n",
    "label_f = sio.loadmat('.\\\\dataset\\\\recognise\\\\fsk_label_onehot.mat')\n",
    "label_p = sio.loadmat('.\\\\dataset\\\\recognise\\\\psk_label_onehot.mat')\n",
    "label_q = sio.loadmat('.\\\\dataset\\\\recognise\\\\qam_label_onehot.mat')\n",
    "label_g = sio.loadmat('.\\\\dataset\\\\recognise\\\\gmsk_label_onehot.mat')\n",
    "Y_train = np.concatenate([label_p['total_class'], label_q['total_class'], label_f['total_class'], label_g['total_class']])\n",
    "print(Y_train.shape)"
   ]
  },
  {
   "cell_type": "code",
   "execution_count": 3,
   "metadata": {},
   "outputs": [
    {
     "name": "stdout",
     "output_type": "stream",
     "text": [
      "(162000, 2, 1024)\n",
      "(18000, 2, 1024)\n"
     ]
    }
   ],
   "source": [
    "# split trainingset and val set\n",
    "X_train, X_val, Y_train, Y_val = train_test_split(X_train, Y_train,\n",
    "                                                  test_size = 0.1, random_state=1)\n",
    "print(X_train.shape)\n",
    "print(X_val.shape)"
   ]
  },
  {
   "cell_type": "code",
   "execution_count": 4,
   "metadata": {},
   "outputs": [],
   "source": [
    "# Set a learning rate annealer\n",
    "learning_rate_reduction = ReduceLROnPlateau(monitor='val_loss', \n",
    "                                            patience=3, \n",
    "                                            verbose=1, \n",
    "                                            factor=0.1, \n",
    "                                            min_lr=1e-6,\n",
    "                                            mode='min')\n",
    "\n",
    "early_stopping = EarlyStopping(monitor='val_loss', patience=8, verbose=1, mode='auto')"
   ]
  },
  {
   "cell_type": "code",
   "execution_count": 5,
   "metadata": {},
   "outputs": [
    {
     "name": "stderr",
     "output_type": "stream",
     "text": [
      "d:\\python35\\lib\\site-packages\\ipykernel_launcher.py:11: UserWarning: Update your `Conv2D` call to the Keras 2 API: `Conv2D(192, data_format=\"channels_last\", activation=None, kernel_size=(1, 4), strides=1, padding=\"same\", kernel_initializer=\"he_normal\")`\n",
      "  # This is added back by InteractiveShellApp.init_path()\n",
      "d:\\python35\\lib\\site-packages\\ipykernel_launcher.py:20: UserWarning: Update your `Conv2D` call to the Keras 2 API: `Conv2D(128, data_format=\"channels_last\", activation=None, kernel_size=(2, 3), strides=1, padding=\"valid\", kernel_initializer=\"he_normal\")`\n",
      "d:\\python35\\lib\\site-packages\\ipykernel_launcher.py:27: UserWarning: Update your `Dense` call to the Keras 2 API: `Dense(256, kernel_initializer=\"he_normal\")`\n"
     ]
    },
    {
     "name": "stdout",
     "output_type": "stream",
     "text": [
      "_________________________________________________________________\n",
      "Layer (type)                 Output Shape              Param #   \n",
      "=================================================================\n",
      "input_1 (InputLayer)         (None, 2, 1024)           0         \n",
      "_________________________________________________________________\n",
      "reshape_1 (Reshape)          (None, 2, 1024, 1)        0         \n",
      "_________________________________________________________________\n",
      "conv2d_1 (Conv2D)            (None, 2, 1024, 192)      960       \n",
      "_________________________________________________________________\n",
      "batch_normalization_1 (Batch (None, 2, 1024, 192)      768       \n",
      "_________________________________________________________________\n",
      "activation_1 (Activation)    (None, 2, 1024, 192)      0         \n",
      "_________________________________________________________________\n",
      "dropout_1 (Dropout)          (None, 2, 1024, 192)      0         \n",
      "_________________________________________________________________\n",
      "max_pooling2d_1 (MaxPooling2 (None, 2, 512, 192)       0         \n",
      "_________________________________________________________________\n",
      "conv2d_2 (Conv2D)            (None, 1, 510, 128)       147584    \n",
      "_________________________________________________________________\n",
      "batch_normalization_2 (Batch (None, 1, 510, 128)       512       \n",
      "_________________________________________________________________\n",
      "activation_2 (Activation)    (None, 1, 510, 128)       0         \n",
      "_________________________________________________________________\n",
      "dropout_2 (Dropout)          (None, 1, 510, 128)       0         \n",
      "_________________________________________________________________\n",
      "flatten_1 (Flatten)          (None, 65280)             0         \n",
      "_________________________________________________________________\n",
      "dense_1 (Dense)              (None, 256)               16711936  \n",
      "_________________________________________________________________\n",
      "batch_normalization_3 (Batch (None, 256)               1024      \n",
      "_________________________________________________________________\n",
      "activation_3 (Activation)    (None, 256)               0         \n",
      "_________________________________________________________________\n",
      "dropout_3 (Dropout)          (None, 256)               0         \n",
      "_________________________________________________________________\n",
      "dense_2 (Dense)              (None, 9)                 2313      \n",
      "=================================================================\n",
      "Total params: 16,865,097\n",
      "Trainable params: 16,863,945\n",
      "Non-trainable params: 1,152\n",
      "_________________________________________________________________\n"
     ]
    }
   ],
   "source": [
    "dr = 0.2\n",
    "\n",
    "def get_model():\n",
    "    #init\n",
    "    #init\n",
    "    inp = Input([2, 1024])\n",
    "    out = Reshape([2, 1024, 1])(inp)\n",
    "    #part1\n",
    "    out = Conv2D(192, kernel_size=(1, 4), strides=1, \n",
    "                        data_format='channels_last', padding='same',\n",
    "                        activation=None, init='he_normal')(out)\n",
    "    out = BatchNormalization()(out)\n",
    "    out = Activation('relu')(out)\n",
    "    out = layers.Dropout(dr)(out)\n",
    "    \n",
    "    out = MaxPooling2D(pool_size=(1,2),padding='same')(out)\n",
    "    \n",
    "    out = Conv2D(128, kernel_size=(2, 3), strides=1, \n",
    "                        data_format='channels_last', padding='valid',\n",
    "                        activation=None, init='he_normal')(out)\n",
    "    out = BatchNormalization()(out)\n",
    "    out = Activation('relu')(out)\n",
    "    out = layers.Dropout(dr)(out)\n",
    "    \n",
    "    out = Flatten()(out)\n",
    "    #part3 \n",
    "    out = layers.Dense(256,init='he_normal')(out)\n",
    "    \n",
    "    out = BatchNormalization()(out)\n",
    "    out = Activation('relu')(out)\n",
    "    out = layers.Dropout(dr)(out)\n",
    "     #last\n",
    "    out = Dense(len(classes), activation='softmax')(out)\n",
    "   \n",
    "\n",
    "    model = Model(inp, out)\n",
    "    return model\n",
    "sp_model = get_model()\n",
    "sp_model.summary()"
   ]
  },
  {
   "cell_type": "code",
   "execution_count": 6,
   "metadata": {},
   "outputs": [
    {
     "name": "stdout",
     "output_type": "stream",
     "text": [
      "Train on 162000 samples, validate on 18000 samples\n",
      "Epoch 1/50\n",
      "162000/162000 [==============================] - 367s - loss: 0.6845 - acc: 0.7092 - val_loss: 0.5350 - val_acc: 0.7636\n",
      "Epoch 2/50\n",
      "162000/162000 [==============================] - 284s - loss: 0.4192 - acc: 0.8143 - val_loss: 0.4441 - val_acc: 0.7988\n",
      "Epoch 3/50\n",
      "162000/162000 [==============================] - 283s - loss: 0.3420 - acc: 0.8482 - val_loss: 0.5501 - val_acc: 0.7540\n",
      "Epoch 4/50\n",
      "162000/162000 [==============================] - 284s - loss: 0.2733 - acc: 0.8815 - val_loss: 0.4982 - val_acc: 0.7767\n",
      "Epoch 5/50\n",
      "162000/162000 [==============================] - 283s - loss: 0.2019 - acc: 0.9182 - val_loss: 0.4535 - val_acc: 0.8017\n",
      "Epoch 6/50\n",
      "161984/162000 [============================>.] - ETA: 0s - loss: 0.1458 - acc: 0.9448\n",
      "Epoch 00005: reducing learning rate to 0.00010000000474974513.\n",
      "162000/162000 [==============================] - 284s - loss: 0.1458 - acc: 0.9448 - val_loss: 0.5045 - val_acc: 0.7968\n",
      "Epoch 7/50\n",
      "162000/162000 [==============================] - 283s - loss: 0.0802 - acc: 0.9742 - val_loss: 0.4721 - val_acc: 0.8126\n",
      "Epoch 8/50\n",
      "162000/162000 [==============================] - 283s - loss: 0.0628 - acc: 0.9804 - val_loss: 0.4876 - val_acc: 0.8129\n",
      "Epoch 9/50\n",
      "161984/162000 [============================>.] - ETA: 0s - loss: 0.0520 - acc: 0.9840\n",
      "Epoch 00008: reducing learning rate to 1.0000000474974514e-05.\n",
      "162000/162000 [==============================] - 284s - loss: 0.0520 - acc: 0.9840 - val_loss: 0.5083 - val_acc: 0.8116\n",
      "Epoch 10/50\n",
      "162000/162000 [==============================] - 283s - loss: 0.0443 - acc: 0.9876 - val_loss: 0.5145 - val_acc: 0.8104\n",
      "Epoch 11/50\n",
      "162000/162000 [==============================] - 284s - loss: 0.0428 - acc: 0.9879 - val_loss: 0.5177 - val_acc: 0.8106\n",
      "Epoch 00010: early stopping\n"
     ]
    }
   ],
   "source": [
    "sp_model.compile(loss='categorical_crossentropy',\n",
    "              optimizer=optimizers.Adam(lr=0.001, beta_1=0.9, beta_2=0.999, epsilon=1e-08),\n",
    "              metrics=['accuracy'])\n",
    "history = sp_model.fit(X_train, Y_train,\n",
    "                  epochs=50,\n",
    "                  batch_size=64,\n",
    "                  verbose=1,\n",
    "                  shuffle= True,\n",
    "                  #validation_data=None)\n",
    "                  validation_data=(X_val, Y_val),\n",
    "                  callbacks=[learning_rate_reduction,early_stopping])  "
   ]
  },
  {
   "cell_type": "code",
   "execution_count": 7,
   "metadata": {},
   "outputs": [],
   "source": [
    "sp_model.save_weights('.\\\\res\\\\Net_weight\\\\model_weights_simpleclass.h5')"
   ]
  },
  {
   "cell_type": "code",
   "execution_count": 8,
   "metadata": {},
   "outputs": [
    {
     "data": {
      "image/png": "[encoded data removed]",
      "text/plain": [
       "<matplotlib.figure.Figure at 0x16d69e1f6d8>"
      ]
     },
     "metadata": {},
     "output_type": "display_data"
    }
   ],
   "source": [
    "# Plot the loss and accuracy curves for training and validation \n",
    "fig, ax = plt.subplots(2,1)\n",
    "ax[0].plot(history.history['loss'], color='b', label=\"Training loss\")\n",
    "ax[0].plot(history.history['val_loss'], color='r', label=\"validation loss\",axes =ax[0])\n",
    "legend = ax[0].legend(loc='best', shadow=True)\n",
    "\n",
    "ax[1].plot(history.history['acc'], color='b', label=\"Training accuracy\")\n",
    "ax[1].plot(history.history['val_acc'], color='r',label=\"Validation accuracy\")\n",
    "legend = ax[1].legend(loc='best', shadow=True)"
   ]
  },
  {
   "cell_type": "code",
   "execution_count": 9,
   "metadata": {},
   "outputs": [
    {
     "data": {
      "image/png": "[encoded data removed]",
      "text/plain": [
       "<matplotlib.figure.Figure at 0x16d69b13c18>"
      ]
     },
     "metadata": {},
     "output_type": "display_data"
    }
   ],
   "source": [
    "def plot_confusion_matrix(cm, classes,\n",
    "                          normalize=False,\n",
    "                          title='Confusion matrix',\n",
    "                          cmap=plt.cm.Blues):\n",
    "    \"\"\"\n",
    "    This function prints and plots the confusion matrix.\n",
    "    Normalization can be applied by setting `normalize=True`.\n",
    "    \"\"\"\n",
    "    plt.imshow(cm, interpolation='nearest', cmap=cmap)\n",
    "    plt.title(title)\n",
    "    plt.colorbar()\n",
    "    tick_marks = np.arange(len(classes))\n",
    "    plt.xticks(tick_marks, classes, rotation=45)\n",
    "    plt.yticks(tick_marks, classes)\n",
    "\n",
    "    if normalize:\n",
    "        cm = cm.astype('float') / cm.sum(axis=1)[:, np.newaxis]\n",
    "\n",
    "    thresh = cm.max() / 2.\n",
    "    for i, j in itertools.product(range(cm.shape[0]), range(cm.shape[1])):\n",
    "        plt.text(j, i, cm[i, j],\n",
    "                 horizontalalignment=\"center\",\n",
    "                 color=\"white\" if cm[i, j] > thresh else \"black\")\n",
    "\n",
    "    plt.tight_layout()\n",
    "    plt.ylabel('True label')\n",
    "    plt.xlabel('Predicted label')\n",
    "\n",
    "# Predict the values from the validation dataset\n",
    "Y_pred = sp_model.predict(X_val)\n",
    "# Convert predictions classes to one hot vectors \n",
    "Y_pred_classes = np.argmax(Y_pred,axis = 1) \n",
    "# Convert validation observations to one hot vectors\n",
    "Y_true = np.argmax(Y_val,axis = 1) \n",
    "# compute the confusion matrix\n",
    "confusion_mtx = confusion_matrix(Y_true, Y_pred_classes) \n",
    "# plot the confusion matrix\n",
    "plot_confusion_matrix(confusion_mtx, normalize=False,classes = classes) "
   ]
  },
  {
   "cell_type": "code",
   "execution_count": 10,
   "metadata": {},
   "outputs": [],
   "source": [
    "np.save('.\\\\dataset\\\\temp_data\\\\X_val.npy',X_val)\n",
    "np.save('.\\\\dataset\\\\temp_data\\\\Y_val.npy',Y_val)"
   ]
  },
  {
   "cell_type": "code",
   "execution_count": 12,
   "metadata": {},
   "outputs": [],
   "source": [
    "np.save('.\\\\dataset\\\\temp_data\\\\X_train.npy',X_train)\n",
    "np.save('.\\\\dataset\\\\temp_data\\\\Y_train.npy',Y_train)"
   ]
  },
  {
   "cell_type": "code",
   "execution_count": null,
   "metadata": {},
   "outputs": [],
   "source": []
  }
 ],
 "metadata": {
  "kernelspec": {
   "display_name": "Python 3",
   "language": "python",
   "name": "python3"
  },
  "language_info": {
   "codemirror_mode": {
    "name": "ipython",
    "version": 3
   },
   "file_extension": ".py",
   "mimetype": "text/x-python",
   "name": "python",
   "nbconvert_exporter": "python",
   "pygments_lexer": "ipython3",
   "version": "3.5.3"
  }
 },
 "nbformat": 4,
 "nbformat_minor": 2
}
