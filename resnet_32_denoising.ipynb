{
 "cells": [
  {
   "cell_type": "code",
   "execution_count": 1,
   "metadata": {},
   "outputs": [
    {
     "name": "stderr",
     "output_type": "stream",
     "text": [
      "Using TensorFlow backend.\n"
     ]
    }
   ],
   "source": [
    "import numpy as np\n",
    "import matplotlib.pyplot as plt\n",
    "%matplotlib inline\n",
    "from keras.optimizers import SGD, adam\n",
    "import scipy.io as sio\n",
    "import loss.my_loss as my_loss"
   ]
  },
  {
   "cell_type": "code",
   "execution_count": 2,
   "metadata": {},
   "outputs": [],
   "source": [
    "training_set = {}\n",
    "training_set['received'] = sio.loadmat('.\\\\data\\\\denoise_set\\\\sps_4\\\\train_received')['received_set']\n",
    "training_set['clean'] = sio.loadmat('.\\\\data\\\\denoise_set\\\\sps_4\\\\train_clean')['clean_set']\n",
    "training_set['snr'] = sio.loadmat('.\\\\data\\\\denoise_set\\\\sps_4\\\\train_snr')['snr_set']"
   ]
  },
  {
   "cell_type": "code",
   "execution_count": 3,
   "metadata": {},
   "outputs": [],
   "source": [
    "x = np.zeros([training_set['received'].shape[0],2,training_set['received'].shape[1]])\n",
    "x[:,0,:]=np.real(training_set['received'])\n",
    "x[:,1,:]=np.imag(training_set['received'])\n",
    "y = np.zeros([training_set['received'].shape[0],2,training_set['received'].shape[1]])\n",
    "y[:,0,:]=np.real(training_set['clean'])\n",
    "y[:,1,:]=np.imag(training_set['clean'])\n",
    "x = x.astype(np.float32)\n",
    "y = y.astype(np.float32)"
   ]
  },
  {
   "cell_type": "code",
   "execution_count": 4,
   "metadata": {},
   "outputs": [
    {
     "name": "stdout",
     "output_type": "stream",
     "text": [
      "(20000, 2, 1024, 1)\n"
     ]
    }
   ],
   "source": [
    "out_shape = list(x.shape)\n",
    "inp_shape = np.append(out_shape, 1)\n",
    "x = x.reshape(inp_shape)\n",
    "y = y.reshape(inp_shape)\n",
    "print(x.shape)"
   ]
  },
  {
   "cell_type": "code",
   "execution_count": 5,
   "metadata": {},
   "outputs": [],
   "source": [
    "from keras.callbacks import ModelCheckpoint, LearningRateScheduler, ReduceLROnPlateau, TensorBoard, EarlyStopping\n",
    "lr_decay = ReduceLROnPlateau(monitor='loss', factor=0.2, patience=3, verbose=1, min_lr=1e-6, mode='min')\n",
    "early_stopping = EarlyStopping(monitor='loss', patience=6, verbose=1, mode='min')\n",
    "callback_list = [lr_decay, early_stopping] "
   ]
  },
  {
   "cell_type": "code",
   "execution_count": 6,
   "metadata": {},
   "outputs": [
    {
     "name": "stderr",
     "output_type": "stream",
     "text": [
      "D:\\python-wing-personal\\script\\MR_4\\model\\ddn.py:75: UserWarning: Update your `Conv2D` call to the Keras 2 API: `Conv2D(64, (1, 4), padding=\"same\", kernel_initializer=\"he_normal\", activation=None, strides=(1, 1), name=\"input_layer\")`\n",
      "  name='input_layer', padding='same', activation=None)(inp)\n",
      "D:\\python-wing-personal\\script\\MR_4\\model\\ddn.py:27: UserWarning: Update your `Conv2D` call to the Keras 2 API: `Conv2D(16, padding=\"same\", kernel_size=(1, 1), strides=(1, 1), kernel_initializer=\"he_normal\", activation=None, name=\"bblock_1_conv_1\")`\n",
      "  name=name+'_conv_1', padding='same', activation=None)(inp)\n",
      "D:\\python-wing-personal\\script\\MR_4\\model\\ddn.py:32: UserWarning: Update your `Conv2D` call to the Keras 2 API: `Conv2D(16, padding=\"same\", kernel_size=(1, 4), strides=(1, 1), kernel_initializer=\"he_normal\", activation=None, name=\"bblock_1_conv_2\")`\n",
      "  name=name+'_conv_2', padding='same', activation=None)(out)\n",
      "D:\\python-wing-personal\\script\\MR_4\\model\\ddn.py:37: UserWarning: Update your `Conv2D` call to the Keras 2 API: `Conv2D(64, padding=\"same\", kernel_size=(1, 1), strides=(1, 1), kernel_initializer=\"he_normal\", activation=None, name=\"bblock_1_conv_3\")`\n",
      "  name=name+'_conv_3', padding='same', activation=None)(out)\n",
      "D:\\python-wing-personal\\script\\MR_4\\model\\ddn.py:27: UserWarning: Update your `Conv2D` call to the Keras 2 API: `Conv2D(16, padding=\"same\", kernel_size=(1, 1), strides=(1, 1), kernel_initializer=\"he_normal\", activation=None, name=\"bblock_2_conv_1\")`\n",
      "  name=name+'_conv_1', padding='same', activation=None)(inp)\n",
      "D:\\python-wing-personal\\script\\MR_4\\model\\ddn.py:32: UserWarning: Update your `Conv2D` call to the Keras 2 API: `Conv2D(16, padding=\"same\", kernel_size=(1, 4), strides=(1, 1), kernel_initializer=\"he_normal\", activation=None, name=\"bblock_2_conv_2\")`\n",
      "  name=name+'_conv_2', padding='same', activation=None)(out)\n",
      "D:\\python-wing-personal\\script\\MR_4\\model\\ddn.py:37: UserWarning: Update your `Conv2D` call to the Keras 2 API: `Conv2D(64, padding=\"same\", kernel_size=(1, 1), strides=(1, 1), kernel_initializer=\"he_normal\", activation=None, name=\"bblock_2_conv_3\")`\n",
      "  name=name+'_conv_3', padding='same', activation=None)(out)\n",
      "D:\\python-wing-personal\\script\\MR_4\\model\\ddn.py:27: UserWarning: Update your `Conv2D` call to the Keras 2 API: `Conv2D(16, padding=\"same\", kernel_size=(1, 1), strides=(1, 1), kernel_initializer=\"he_normal\", activation=None, name=\"bblock_3_conv_1\")`\n",
      "  name=name+'_conv_1', padding='same', activation=None)(inp)\n",
      "D:\\python-wing-personal\\script\\MR_4\\model\\ddn.py:32: UserWarning: Update your `Conv2D` call to the Keras 2 API: `Conv2D(16, padding=\"same\", kernel_size=(1, 4), strides=(1, 1), kernel_initializer=\"he_normal\", activation=None, name=\"bblock_3_conv_2\")`\n",
      "  name=name+'_conv_2', padding='same', activation=None)(out)\n",
      "D:\\python-wing-personal\\script\\MR_4\\model\\ddn.py:37: UserWarning: Update your `Conv2D` call to the Keras 2 API: `Conv2D(64, padding=\"same\", kernel_size=(1, 1), strides=(1, 1), kernel_initializer=\"he_normal\", activation=None, name=\"bblock_3_conv_3\")`\n",
      "  name=name+'_conv_3', padding='same', activation=None)(out)\n",
      "D:\\python-wing-personal\\script\\MR_4\\model\\ddn.py:27: UserWarning: Update your `Conv2D` call to the Keras 2 API: `Conv2D(16, padding=\"same\", kernel_size=(1, 1), strides=(1, 1), kernel_initializer=\"he_normal\", activation=None, name=\"bblock_4_conv_1\")`\n",
      "  name=name+'_conv_1', padding='same', activation=None)(inp)\n",
      "D:\\python-wing-personal\\script\\MR_4\\model\\ddn.py:32: UserWarning: Update your `Conv2D` call to the Keras 2 API: `Conv2D(16, padding=\"same\", kernel_size=(1, 4), strides=(1, 1), kernel_initializer=\"he_normal\", activation=None, name=\"bblock_4_conv_2\")`\n",
      "  name=name+'_conv_2', padding='same', activation=None)(out)\n",
      "D:\\python-wing-personal\\script\\MR_4\\model\\ddn.py:37: UserWarning: Update your `Conv2D` call to the Keras 2 API: `Conv2D(64, padding=\"same\", kernel_size=(1, 1), strides=(1, 1), kernel_initializer=\"he_normal\", activation=None, name=\"bblock_4_conv_3\")`\n",
      "  name=name+'_conv_3', padding='same', activation=None)(out)\n",
      "D:\\python-wing-personal\\script\\MR_4\\model\\ddn.py:27: UserWarning: Update your `Conv2D` call to the Keras 2 API: `Conv2D(16, padding=\"same\", kernel_size=(1, 1), strides=(1, 1), kernel_initializer=\"he_normal\", activation=None, name=\"bblock_5_conv_1\")`\n",
      "  name=name+'_conv_1', padding='same', activation=None)(inp)\n",
      "D:\\python-wing-personal\\script\\MR_4\\model\\ddn.py:32: UserWarning: Update your `Conv2D` call to the Keras 2 API: `Conv2D(16, padding=\"same\", kernel_size=(1, 4), strides=(1, 1), kernel_initializer=\"he_normal\", activation=None, name=\"bblock_5_conv_2\")`\n",
      "  name=name+'_conv_2', padding='same', activation=None)(out)\n",
      "D:\\python-wing-personal\\script\\MR_4\\model\\ddn.py:37: UserWarning: Update your `Conv2D` call to the Keras 2 API: `Conv2D(64, padding=\"same\", kernel_size=(1, 1), strides=(1, 1), kernel_initializer=\"he_normal\", activation=None, name=\"bblock_5_conv_3\")`\n",
      "  name=name+'_conv_3', padding='same', activation=None)(out)\n",
      "D:\\python-wing-personal\\script\\MR_4\\model\\ddn.py:91: UserWarning: Update your `Conv2D` call to the Keras 2 API: `Conv2D(1, (1, 1), padding=\"same\", kernel_initializer=\"he_normal\", activation=None, strides=(1, 1), name=\"output_layer\")`\n",
      "  name='output_layer', padding='same', activation=None)(out)\n"
     ]
    }
   ],
   "source": [
    "import model.ddn as my_model\n",
    "model = my_model.resnet_buttleneck()\n",
    "# model.summary()"
   ]
  },
  {
   "cell_type": "code",
   "execution_count": 7,
   "metadata": {},
   "outputs": [],
   "source": [
    "from loss.my_loss import sqrt_evm_loss\n",
    "model.compile(loss=sqrt_evm_loss,\n",
    "                      optimizer='adam',\n",
    "                      metrics={'output_layer':sqrt_evm_loss})"
   ]
  },
  {
   "cell_type": "code",
   "execution_count": 8,
   "metadata": {},
   "outputs": [],
   "source": [
    "x_train = x[:18000]\n",
    "y_train = y[:18000]\n",
    "x_val = x[18000:]\n",
    "y_val = y[18000:]"
   ]
  },
  {
   "cell_type": "code",
   "execution_count": 9,
   "metadata": {},
   "outputs": [
    {
     "name": "stdout",
     "output_type": "stream",
     "text": [
      "Train on 18000 samples, validate on 2000 samples\n",
      "Epoch 1/50\n",
      "18000/18000 [==============================] - 86s - loss: 7.8996 - val_loss: 4.5950\n",
      "Epoch 2/50\n",
      "18000/18000 [==============================] - 81s - loss: 3.8310 - val_loss: 2.9981\n",
      "Epoch 3/50\n",
      "18000/18000 [==============================] - 82s - loss: 3.3660 - val_loss: 2.9634\n",
      "Epoch 4/50\n",
      "18000/18000 [==============================] - 81s - loss: 3.2931 - val_loss: 2.9099\n",
      "Epoch 5/50\n",
      "18000/18000 [==============================] - 81s - loss: 3.2922 - val_loss: 2.8849\n",
      "Epoch 6/50\n",
      "18000/18000 [==============================] - 81s - loss: 3.2403 - val_loss: 2.8692\n",
      "Epoch 7/50\n",
      "18000/18000 [==============================] - 81s - loss: 3.2541 - val_loss: 2.8612\n",
      "Epoch 8/50\n",
      "18000/18000 [==============================] - 81s - loss: 3.2281 - val_loss: 2.8574\n",
      "Epoch 9/50\n",
      "18000/18000 [==============================] - 81s - loss: 3.2392 - val_loss: 2.8491\n",
      "Epoch 10/50\n",
      "18000/18000 [==============================] - 81s - loss: 3.2318 - val_loss: 2.8457\n",
      "Epoch 11/50\n",
      "18000/18000 [==============================] - 81s - loss: 3.2440 - val_loss: 2.8379\n",
      "Epoch 12/50\n",
      "18000/18000 [==============================] - 81s - loss: 3.2088 - val_loss: 2.8406\n",
      "Epoch 13/50\n",
      "18000/18000 [==============================] - 81s - loss: 3.2091 - val_loss: 2.8310\n",
      "Epoch 14/50\n",
      "18000/18000 [==============================] - 81s - loss: 3.1702 - val_loss: 2.8200\n",
      "Epoch 15/50\n",
      "18000/18000 [==============================] - 81s - loss: 3.1969 - val_loss: 2.8315\n",
      "Epoch 16/50\n",
      "18000/18000 [==============================] - 81s - loss: 3.1914 - val_loss: 2.8182\n",
      "Epoch 17/50\n",
      "18000/18000 [==============================] - 81s - loss: 3.2112 - val_loss: 2.8183\n",
      "Epoch 18/50\n",
      "17984/18000 [============================>.] - ETA: 0s - loss: 3.2039\n",
      "Epoch 00017: reducing learning rate to 0.00020000000949949026.\n",
      "18000/18000 [==============================] - 81s - loss: 3.2037 - val_loss: 2.8196\n",
      "Epoch 19/50\n",
      "18000/18000 [==============================] - 81s - loss: 3.2080 - val_loss: 2.8155\n",
      "Epoch 20/50\n",
      "18000/18000 [==============================] - 81s - loss: 3.1718 - val_loss: 2.8245\n",
      "Epoch 21/50\n",
      "18000/18000 [==============================] - 81s - loss: 3.1518 - val_loss: 2.8267\n",
      "Epoch 22/50\n",
      "18000/18000 [==============================] - 81s - loss: 3.1587 - val_loss: 2.8145\n",
      "Epoch 23/50\n",
      "18000/18000 [==============================] - 81s - loss: 3.1803 - val_loss: 2.8105\n",
      "Epoch 24/50\n",
      "18000/18000 [==============================] - 81s - loss: 3.1897 - val_loss: 2.8289\n",
      "Epoch 25/50\n",
      "17984/18000 [============================>.] - ETA: 0s - loss: 3.1828\n",
      "Epoch 00024: reducing learning rate to 4.0000001899898055e-05.\n",
      "18000/18000 [==============================] - 81s - loss: 3.1826 - val_loss: 2.8111\n",
      "Epoch 26/50\n",
      "18000/18000 [==============================] - 81s - loss: 3.1959 - val_loss: 2.8150\n",
      "Epoch 27/50\n",
      "18000/18000 [==============================] - 81s - loss: 3.1967 - val_loss: 2.8189\n",
      "Epoch 28/50\n",
      "17984/18000 [============================>.] - ETA: 0s - loss: 3.1952\n",
      "Epoch 00027: reducing learning rate to 8.000000525498762e-06.\n",
      "18000/18000 [==============================] - 81s - loss: 3.1955 - val_loss: 2.8149\n",
      "Epoch 00027: early stopping\n"
     ]
    }
   ],
   "source": [
    "history1 = model.fit(x=x_train, y=y_train,\n",
    "                    epochs=50,\n",
    "                    batch_size=32,\n",
    "                    verbose=1,\n",
    "                    validation_data=(x_val, y_val,),\n",
    "                    callbacks=callback_list)\n",
    "model.save_weights('.\\\\weights\\\\ResNet_32_sqrtevmloss.h5')"
   ]
  },
  {
   "cell_type": "code",
   "execution_count": 11,
   "metadata": {},
   "outputs": [
    {
     "name": "stderr",
     "output_type": "stream",
     "text": [
      "D:\\python-wing-personal\\script\\MR_4\\model\\ddn.py:75: UserWarning: Update your `Conv2D` call to the Keras 2 API: `Conv2D(64, (1, 4), padding=\"same\", kernel_initializer=\"he_normal\", activation=None, strides=(1, 1), name=\"input_layer\")`\n",
      "  name='input_layer', padding='same', activation=None)(inp)\n",
      "D:\\python-wing-personal\\script\\MR_4\\model\\ddn.py:27: UserWarning: Update your `Conv2D` call to the Keras 2 API: `Conv2D(16, padding=\"same\", kernel_size=(1, 1), strides=(1, 1), kernel_initializer=\"he_normal\", activation=None, name=\"bblock_1_conv_1\")`\n",
      "  name=name+'_conv_1', padding='same', activation=None)(inp)\n",
      "D:\\python-wing-personal\\script\\MR_4\\model\\ddn.py:32: UserWarning: Update your `Conv2D` call to the Keras 2 API: `Conv2D(16, padding=\"same\", kernel_size=(1, 4), strides=(1, 1), kernel_initializer=\"he_normal\", activation=None, name=\"bblock_1_conv_2\")`\n",
      "  name=name+'_conv_2', padding='same', activation=None)(out)\n",
      "D:\\python-wing-personal\\script\\MR_4\\model\\ddn.py:37: UserWarning: Update your `Conv2D` call to the Keras 2 API: `Conv2D(64, padding=\"same\", kernel_size=(1, 1), strides=(1, 1), kernel_initializer=\"he_normal\", activation=None, name=\"bblock_1_conv_3\")`\n",
      "  name=name+'_conv_3', padding='same', activation=None)(out)\n",
      "D:\\python-wing-personal\\script\\MR_4\\model\\ddn.py:27: UserWarning: Update your `Conv2D` call to the Keras 2 API: `Conv2D(16, padding=\"same\", kernel_size=(1, 1), strides=(1, 1), kernel_initializer=\"he_normal\", activation=None, name=\"bblock_2_conv_1\")`\n",
      "  name=name+'_conv_1', padding='same', activation=None)(inp)\n",
      "D:\\python-wing-personal\\script\\MR_4\\model\\ddn.py:32: UserWarning: Update your `Conv2D` call to the Keras 2 API: `Conv2D(16, padding=\"same\", kernel_size=(1, 4), strides=(1, 1), kernel_initializer=\"he_normal\", activation=None, name=\"bblock_2_conv_2\")`\n",
      "  name=name+'_conv_2', padding='same', activation=None)(out)\n",
      "D:\\python-wing-personal\\script\\MR_4\\model\\ddn.py:37: UserWarning: Update your `Conv2D` call to the Keras 2 API: `Conv2D(64, padding=\"same\", kernel_size=(1, 1), strides=(1, 1), kernel_initializer=\"he_normal\", activation=None, name=\"bblock_2_conv_3\")`\n",
      "  name=name+'_conv_3', padding='same', activation=None)(out)\n",
      "D:\\python-wing-personal\\script\\MR_4\\model\\ddn.py:27: UserWarning: Update your `Conv2D` call to the Keras 2 API: `Conv2D(16, padding=\"same\", kernel_size=(1, 1), strides=(1, 1), kernel_initializer=\"he_normal\", activation=None, name=\"bblock_3_conv_1\")`\n",
      "  name=name+'_conv_1', padding='same', activation=None)(inp)\n",
      "D:\\python-wing-personal\\script\\MR_4\\model\\ddn.py:32: UserWarning: Update your `Conv2D` call to the Keras 2 API: `Conv2D(16, padding=\"same\", kernel_size=(1, 4), strides=(1, 1), kernel_initializer=\"he_normal\", activation=None, name=\"bblock_3_conv_2\")`\n",
      "  name=name+'_conv_2', padding='same', activation=None)(out)\n",
      "D:\\python-wing-personal\\script\\MR_4\\model\\ddn.py:37: UserWarning: Update your `Conv2D` call to the Keras 2 API: `Conv2D(64, padding=\"same\", kernel_size=(1, 1), strides=(1, 1), kernel_initializer=\"he_normal\", activation=None, name=\"bblock_3_conv_3\")`\n",
      "  name=name+'_conv_3', padding='same', activation=None)(out)\n",
      "D:\\python-wing-personal\\script\\MR_4\\model\\ddn.py:27: UserWarning: Update your `Conv2D` call to the Keras 2 API: `Conv2D(16, padding=\"same\", kernel_size=(1, 1), strides=(1, 1), kernel_initializer=\"he_normal\", activation=None, name=\"bblock_4_conv_1\")`\n",
      "  name=name+'_conv_1', padding='same', activation=None)(inp)\n",
      "D:\\python-wing-personal\\script\\MR_4\\model\\ddn.py:32: UserWarning: Update your `Conv2D` call to the Keras 2 API: `Conv2D(16, padding=\"same\", kernel_size=(1, 4), strides=(1, 1), kernel_initializer=\"he_normal\", activation=None, name=\"bblock_4_conv_2\")`\n",
      "  name=name+'_conv_2', padding='same', activation=None)(out)\n",
      "D:\\python-wing-personal\\script\\MR_4\\model\\ddn.py:37: UserWarning: Update your `Conv2D` call to the Keras 2 API: `Conv2D(64, padding=\"same\", kernel_size=(1, 1), strides=(1, 1), kernel_initializer=\"he_normal\", activation=None, name=\"bblock_4_conv_3\")`\n",
      "  name=name+'_conv_3', padding='same', activation=None)(out)\n",
      "D:\\python-wing-personal\\script\\MR_4\\model\\ddn.py:27: UserWarning: Update your `Conv2D` call to the Keras 2 API: `Conv2D(16, padding=\"same\", kernel_size=(1, 1), strides=(1, 1), kernel_initializer=\"he_normal\", activation=None, name=\"bblock_5_conv_1\")`\n",
      "  name=name+'_conv_1', padding='same', activation=None)(inp)\n",
      "D:\\python-wing-personal\\script\\MR_4\\model\\ddn.py:32: UserWarning: Update your `Conv2D` call to the Keras 2 API: `Conv2D(16, padding=\"same\", kernel_size=(1, 4), strides=(1, 1), kernel_initializer=\"he_normal\", activation=None, name=\"bblock_5_conv_2\")`\n",
      "  name=name+'_conv_2', padding='same', activation=None)(out)\n",
      "D:\\python-wing-personal\\script\\MR_4\\model\\ddn.py:37: UserWarning: Update your `Conv2D` call to the Keras 2 API: `Conv2D(64, padding=\"same\", kernel_size=(1, 1), strides=(1, 1), kernel_initializer=\"he_normal\", activation=None, name=\"bblock_5_conv_3\")`\n",
      "  name=name+'_conv_3', padding='same', activation=None)(out)\n",
      "D:\\python-wing-personal\\script\\MR_4\\model\\ddn.py:91: UserWarning: Update your `Conv2D` call to the Keras 2 API: `Conv2D(1, (1, 1), padding=\"same\", kernel_initializer=\"he_normal\", activation=None, strides=(1, 1), name=\"output_layer\")`\n",
      "  name='output_layer', padding='same', activation=None)(out)\n"
     ]
    },
    {
     "name": "stdout",
     "output_type": "stream",
     "text": [
      "Train on 18000 samples, validate on 2000 samples\n",
      "Epoch 1/50\n",
      "18000/18000 [==============================] - 85s - loss: 294.0358 - val_loss: 108.5240\n",
      "Epoch 2/50\n",
      "18000/18000 [==============================] - 81s - loss: 50.0117 - val_loss: 20.3083\n",
      "Epoch 3/50\n",
      "18000/18000 [==============================] - 81s - loss: 22.1789 - val_loss: 14.3670\n",
      "Epoch 4/50\n",
      "18000/18000 [==============================] - 81s - loss: 21.4922 - val_loss: 14.1471\n",
      "Epoch 5/50\n",
      "18000/18000 [==============================] - 81s - loss: 20.8624 - val_loss: 14.0106\n",
      "Epoch 6/50\n",
      "18000/18000 [==============================] - 81s - loss: 20.2912 - val_loss: 13.7801\n",
      "Epoch 7/50\n",
      "18000/18000 [==============================] - 81s - loss: 20.3217 - val_loss: 13.6900\n",
      "Epoch 8/50\n",
      "18000/18000 [==============================] - 80s - loss: 20.7158 - val_loss: 13.5889\n",
      "Epoch 9/50\n",
      "18000/18000 [==============================] - 81s - loss: 21.4155 - val_loss: 13.5241\n",
      "Epoch 10/50\n",
      "18000/18000 [==============================] - 81s - loss: 20.1942 - val_loss: 13.5302\n",
      "Epoch 11/50\n",
      "18000/18000 [==============================] - 81s - loss: 20.4257 - val_loss: 13.4791\n",
      "Epoch 12/50\n",
      "18000/18000 [==============================] - 81s - loss: 20.0492 - val_loss: 13.4513\n",
      "Epoch 13/50\n",
      "18000/18000 [==============================] - 81s - loss: 20.5801 - val_loss: 13.6273\n",
      "Epoch 14/50\n",
      "18000/18000 [==============================] - 81s - loss: 20.5263 - val_loss: 13.4272\n",
      "Epoch 15/50\n",
      "18000/18000 [==============================] - 81s - loss: 20.3697 - val_loss: 13.2814\n",
      "Epoch 16/50\n",
      "18000/18000 [==============================] - 81s - loss: 19.9580 - val_loss: 13.2845\n",
      "Epoch 17/50\n",
      "18000/18000 [==============================] - 81s - loss: 20.0531 - val_loss: 13.2805\n",
      "Epoch 18/50\n",
      "18000/18000 [==============================] - 81s - loss: 20.4386 - val_loss: 13.2245\n",
      "Epoch 19/50\n",
      "18000/18000 [==============================] - 81s - loss: 20.2616 - val_loss: 13.2321\n",
      "Epoch 20/50\n",
      "17984/18000 [============================>.] - ETA: 0s - loss: 20.7191\n",
      "Epoch 00019: reducing learning rate to 0.00020000000949949026.\n",
      "18000/18000 [==============================] - 82s - loss: 20.7304 - val_loss: 13.3969\n",
      "Epoch 21/50\n",
      "18000/18000 [==============================] - 81s - loss: 19.8998 - val_loss: 13.1621\n",
      "Epoch 22/50\n",
      "18000/18000 [==============================] - 81s - loss: 19.3678 - val_loss: 13.3639\n",
      "Epoch 23/50\n",
      "18000/18000 [==============================] - 81s - loss: 19.9382 - val_loss: 13.1831\n",
      "Epoch 24/50\n",
      "18000/18000 [==============================] - 81s - loss: 20.1159 - val_loss: 13.2343\n",
      "Epoch 25/50\n",
      "18000/18000 [==============================] - 81s - loss: 19.9324 - val_loss: 13.1771\n",
      "Epoch 26/50\n",
      "17984/18000 [============================>.] - ETA: 0s - loss: 19.8635\n",
      "Epoch 00025: reducing learning rate to 4.0000001899898055e-05.\n",
      "18000/18000 [==============================] - 81s - loss: 19.8598 - val_loss: 13.1495\n",
      "Epoch 27/50\n",
      "18000/18000 [==============================] - 81s - loss: 19.6814 - val_loss: 13.1681\n",
      "Epoch 28/50\n",
      "18000/18000 [==============================] - 82s - loss: 20.3447 - val_loss: 13.1410\n",
      "Epoch 29/50\n",
      "17984/18000 [============================>.] - ETA: 0s - loss: 19.6635\n",
      "Epoch 00028: reducing learning rate to 8.000000525498762e-06.\n",
      "18000/18000 [==============================] - 82s - loss: 19.6718 - val_loss: 13.2182\n",
      "Epoch 00028: early stopping\n"
     ]
    }
   ],
   "source": [
    "import model.ddn as my_model\n",
    "model_3 = my_model.resnet_buttleneck()\n",
    "from loss.my_loss import evm_loss\n",
    "model_3.compile(loss=evm_loss,\n",
    "                      optimizer='adam',\n",
    "                      metrics={'output_layer':evm_loss})\n",
    "history3 = model_3.fit(x=x_train, y=y_train,\n",
    "                    epochs=50,\n",
    "                    batch_size=32,\n",
    "                    verbose=1,\n",
    "                    validation_data=(x_val, y_val),\n",
    "                    callbacks=callback_list)\n",
    "model_3.save_weights('.\\\\weights\\\\ResNet_32_evmloss.h5')"
   ]
  },
  {
   "cell_type": "code",
   "execution_count": 12,
   "metadata": {},
   "outputs": [
    {
     "data": {
      "text/plain": [
       "<matplotlib.figure.Figure at 0x190d4b81160>"
      ]
     },
     "metadata": {},
     "output_type": "display_data"
    },
    {
     "data": {
      "image/png": "[encoded data removed]",
      "text/plain": [
       "<matplotlib.figure.Figure at 0x190d4b81198>"
      ]
     },
     "metadata": {},
     "output_type": "display_data"
    }
   ],
   "source": [
    "plt.figure(1)\n",
    "fig, ax = plt.subplots(1,1)\n",
    "ax.plot(history1.history['loss'], color='b', label=\"use evm\")\n",
    "ax.plot(history2.history['loss'], color='r', label=\"use log(evm)\")\n",
    "ax.plot(history3.history['loss'], color='y', label=\"use mse\")\n",
    "legend = ax.legend(loc='best', shadow=True)"
   ]
  },
  {
   "cell_type": "code",
   "execution_count": null,
   "metadata": {},
   "outputs": [],
   "source": []
  },
  {
   "cell_type": "code",
   "execution_count": null,
   "metadata": {},
   "outputs": [],
   "source": []
  }
 ],
 "metadata": {
  "kernelspec": {
   "display_name": "Python 3",
   "language": "python",
   "name": "python3"
  },
  "language_info": {
   "codemirror_mode": {
    "name": "ipython",
    "version": 3
   },
   "file_extension": ".py",
   "mimetype": "text/x-python",
   "name": "python",
   "nbconvert_exporter": "python",
   "pygments_lexer": "ipython3",
   "version": "3.5.3"
  }
 },
 "nbformat": 4,
 "nbformat_minor": 2
}
