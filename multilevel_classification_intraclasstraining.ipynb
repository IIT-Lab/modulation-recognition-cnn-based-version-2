{
 "cells": [
  {
   "cell_type": "code",
   "execution_count": 1,
   "metadata": {},
   "outputs": [
    {
     "name": "stderr",
     "output_type": "stream",
     "text": [
      "Using TensorFlow backend.\n"
     ]
    }
   ],
   "source": [
    "import numpy as np\n",
    "import matplotlib.pyplot as plt\n",
    "%matplotlib inline\n",
    "from keras.layers import merge\n",
    "from keras.layers.convolutional import Conv2D\n",
    "from keras.layers.convolutional import MaxPooling2D, ZeroPadding2D, AveragePooling2D\n",
    "from keras.layers.core import Dense, Activation, Flatten, Reshape, Lambda\n",
    "from keras.layers.normalization import BatchNormalization\n",
    "from keras.models import Model\n",
    "from keras.layers import Input\n",
    "from keras.optimizers import SGD, adam\n",
    "import scipy.io as sio\n",
    "from keras import layers\n",
    "from sklearn.model_selection import train_test_split\n",
    "from keras.callbacks import ReduceLROnPlateau\n",
    "from keras import optimizers\n",
    "from sklearn.metrics import confusion_matrix\n",
    "import itertools"
   ]
  },
  {
   "cell_type": "code",
   "execution_count": 2,
   "metadata": {},
   "outputs": [
    {
     "name": "stdout",
     "output_type": "stream",
     "text": [
      "(60000, 2, 1024)\n",
      "(60000, 3)\n"
     ]
    }
   ],
   "source": [
    "intra_class_psk = ['BPSK','QPSK','8PSK']\n",
    "inp_p = np.load('.\\\\dataset\\\\recognise\\\\psk_data.npy')\n",
    "label_p = sio.loadmat('.\\\\dataset\\\\recognise\\\\psk_label_onehot.mat')\n",
    "print(inp_p.shape)\n",
    "print(label_p['intra_class'].shape)"
   ]
  },
  {
   "cell_type": "code",
   "execution_count": 3,
   "metadata": {},
   "outputs": [
    {
     "name": "stderr",
     "output_type": "stream",
     "text": [
      "d:\\python35\\lib\\site-packages\\ipykernel_launcher.py:9: UserWarning: Update your `Conv2D` call to the Keras 2 API: `Conv2D(80, kernel_initializer=\"he_normal\", activation=None, kernel_size=(1, 4), strides=1, data_format=\"channels_last\", padding=\"same\")`\n",
      "  if __name__ == '__main__':\n",
      "d:\\python35\\lib\\site-packages\\ipykernel_launcher.py:18: UserWarning: Update your `Conv2D` call to the Keras 2 API: `Conv2D(128, kernel_initializer=\"he_normal\", activation=None, kernel_size=(2, 3), strides=1, data_format=\"channels_last\", padding=\"valid\")`\n",
      "d:\\python35\\lib\\site-packages\\ipykernel_launcher.py:24: UserWarning: Update your `Dense` call to the Keras 2 API: `Dense(64, kernel_initializer=\"he_normal\")`\n"
     ]
    },
    {
     "name": "stdout",
     "output_type": "stream",
     "text": [
      "_________________________________________________________________\n",
      "Layer (type)                 Output Shape              Param #   \n",
      "=================================================================\n",
      "input_1 (InputLayer)         (None, 2, 1024)           0         \n",
      "_________________________________________________________________\n",
      "reshape_1 (Reshape)          (None, 2, 1024, 1)        0         \n",
      "_________________________________________________________________\n",
      "conv2d_1 (Conv2D)            (None, 2, 1024, 80)       400       \n",
      "_________________________________________________________________\n",
      "batch_normalization_1 (Batch (None, 2, 1024, 80)       320       \n",
      "_________________________________________________________________\n",
      "activation_1 (Activation)    (None, 2, 1024, 80)       0         \n",
      "_________________________________________________________________\n",
      "dropout_1 (Dropout)          (None, 2, 1024, 80)       0         \n",
      "_________________________________________________________________\n",
      "max_pooling2d_1 (MaxPooling2 (None, 2, 512, 80)        0         \n",
      "_________________________________________________________________\n",
      "conv2d_2 (Conv2D)            (None, 1, 510, 128)       61568     \n",
      "_________________________________________________________________\n",
      "batch_normalization_2 (Batch (None, 1, 510, 128)       512       \n",
      "_________________________________________________________________\n",
      "activation_2 (Activation)    (None, 1, 510, 128)       0         \n",
      "_________________________________________________________________\n",
      "dropout_2 (Dropout)          (None, 1, 510, 128)       0         \n",
      "_________________________________________________________________\n",
      "global_average_pooling2d_1 ( (None, 128)               0         \n",
      "_________________________________________________________________\n",
      "dense_1 (Dense)              (None, 64)                8256      \n",
      "_________________________________________________________________\n",
      "batch_normalization_3 (Batch (None, 64)                256       \n",
      "_________________________________________________________________\n",
      "activation_3 (Activation)    (None, 64)                0         \n",
      "_________________________________________________________________\n",
      "dropout_3 (Dropout)          (None, 64)                0         \n",
      "_________________________________________________________________\n",
      "dense_2 (Dense)              (None, 3)                 195       \n",
      "=================================================================\n",
      "Total params: 71,507\n",
      "Trainable params: 70,963\n",
      "Non-trainable params: 544\n",
      "_________________________________________________________________\n"
     ]
    }
   ],
   "source": [
    "dr = 0.2\n",
    "def get_psk_model():\n",
    "    #init\n",
    "    inp = Input([2, 1024])\n",
    "    out = Reshape([2, 1024, 1])(inp)\n",
    "    #part1\n",
    "    out = Conv2D(80, kernel_size=(1, 4), strides=1, \n",
    "                        data_format='channels_last', padding='same',\n",
    "                        activation=None, init='he_normal')(out)\n",
    "    out = BatchNormalization()(out)\n",
    "    out = Activation('relu')(out)\n",
    "    out = layers.Dropout(dr)(out)\n",
    "    \n",
    "    out = MaxPooling2D(pool_size=(1,2),padding='same')(out)\n",
    "    \n",
    "    out = Conv2D(128, kernel_size=(2, 3), strides=1, \n",
    "                        data_format='channels_last', padding='valid',\n",
    "                        activation=None, init='he_normal')(out)\n",
    "    out = BatchNormalization()(out)\n",
    "    out = Activation('relu')(out)\n",
    "    out = layers.Dropout(dr)(out)\n",
    "    #part3 \n",
    "    out = layers.GlobalAveragePooling2D()(out)\n",
    "    out = layers.Dense(64,init='he_normal')(out)\n",
    "    \n",
    "    out = BatchNormalization()(out)\n",
    "    out = Activation('relu')(out)\n",
    "    out = layers.Dropout(dr)(out)\n",
    "     #last\n",
    "    out = Dense(len(intra_class_psk), activation='softmax')(out)\n",
    "   \n",
    "\n",
    "    model = Model(inp, out)\n",
    "    return model\n",
    "it_psk_model = get_psk_model()\n",
    "it_psk_model.summary()"
   ]
  },
  {
   "cell_type": "code",
   "execution_count": 4,
   "metadata": {},
   "outputs": [
    {
     "name": "stdout",
     "output_type": "stream",
     "text": [
      "(54000, 2, 1024)\n",
      "(6000, 2, 1024)\n"
     ]
    }
   ],
   "source": [
    "# split trainingset and val set\n",
    "X_train, X_val, Y_train, Y_val = train_test_split(inp_p, label_p['intra_class'],\n",
    "                                                  test_size = 0.1, random_state=1)\n",
    "print(X_train.shape)\n",
    "print(X_val.shape)"
   ]
  },
  {
   "cell_type": "code",
   "execution_count": 5,
   "metadata": {},
   "outputs": [],
   "source": [
    "# Set a learning rate annealer\n",
    "learning_rate_reduction = ReduceLROnPlateau(monitor='val_loss', \n",
    "                                            patience=4, \n",
    "                                            verbose=1, \n",
    "                                            factor=0.1, \n",
    "                                            min_lr=1e-6,\n",
    "                                            mode='min')"
   ]
  },
  {
   "cell_type": "code",
   "execution_count": 6,
   "metadata": {},
   "outputs": [
    {
     "name": "stdout",
     "output_type": "stream",
     "text": [
      "Train on 54000 samples, validate on 6000 samples\n",
      "Epoch 1/80\n",
      "54000/54000 [==============================] - 43s - loss: 0.4347 - acc: 0.8111 - val_loss: 0.3497 - val_acc: 0.8720\n",
      "Epoch 2/80\n",
      "54000/54000 [==============================] - 40s - loss: 0.2505 - acc: 0.9022 - val_loss: 0.7205 - val_acc: 0.6912\n",
      "Epoch 3/80\n",
      "54000/54000 [==============================] - 40s - loss: 0.1719 - acc: 0.9346 - val_loss: 0.4664 - val_acc: 0.7678\n",
      "Epoch 4/80\n",
      "54000/54000 [==============================] - 40s - loss: 0.1446 - acc: 0.9427 - val_loss: 0.2984 - val_acc: 0.8640\n",
      "Epoch 5/80\n",
      "54000/54000 [==============================] - 40s - loss: 0.1278 - acc: 0.9487 - val_loss: 0.2809 - val_acc: 0.8695\n",
      "Epoch 6/80\n",
      "54000/54000 [==============================] - 40s - loss: 0.1177 - acc: 0.9526 - val_loss: 0.2046 - val_acc: 0.9122\n",
      "Epoch 7/80\n",
      "54000/54000 [==============================] - 40s - loss: 0.1086 - acc: 0.9545 - val_loss: 0.1683 - val_acc: 0.9248\n",
      "Epoch 8/80\n",
      "54000/54000 [==============================] - 40s - loss: 0.1046 - acc: 0.9564 - val_loss: 0.3166 - val_acc: 0.8417\n",
      "Epoch 9/80\n",
      "54000/54000 [==============================] - 40s - loss: 0.1004 - acc: 0.9581 - val_loss: 0.6992 - val_acc: 0.7793\n",
      "Epoch 10/80\n",
      "54000/54000 [==============================] - 40s - loss: 0.0992 - acc: 0.9577 - val_loss: 0.2091 - val_acc: 0.9060\n",
      "Epoch 11/80\n",
      "54000/54000 [==============================] - 40s - loss: 0.0936 - acc: 0.9607 - val_loss: 0.2191 - val_acc: 0.9168\n",
      "Epoch 12/80\n",
      "53888/54000 [============================>.] - ETA: 0s - loss: 0.0918 - acc: 0.9603\n",
      "Epoch 00011: reducing learning rate to 0.00010000000474974513.\n",
      "54000/54000 [==============================] - 40s - loss: 0.0918 - acc: 0.9603 - val_loss: 1.0068 - val_acc: 0.7332\n",
      "Epoch 13/80\n",
      "54000/54000 [==============================] - 40s - loss: 0.0813 - acc: 0.9653 - val_loss: 0.1670 - val_acc: 0.9232\n",
      "Epoch 14/80\n",
      "54000/54000 [==============================] - 40s - loss: 0.0785 - acc: 0.9670 - val_loss: 0.1121 - val_acc: 0.9462\n",
      "Epoch 15/80\n",
      "54000/54000 [==============================] - 40s - loss: 0.0773 - acc: 0.9677 - val_loss: 0.1250 - val_acc: 0.9415\n",
      "Epoch 16/80\n",
      "54000/54000 [==============================] - 40s - loss: 0.0762 - acc: 0.9673 - val_loss: 0.1297 - val_acc: 0.9390\n",
      "Epoch 17/80\n",
      "54000/54000 [==============================] - 40s - loss: 0.0780 - acc: 0.9664 - val_loss: 0.1064 - val_acc: 0.9527\n",
      "Epoch 18/80\n",
      "54000/54000 [==============================] - 40s - loss: 0.0771 - acc: 0.9672 - val_loss: 0.1270 - val_acc: 0.9407\n",
      "Epoch 19/80\n",
      "54000/54000 [==============================] - 40s - loss: 0.0764 - acc: 0.9671 - val_loss: 0.1363 - val_acc: 0.9327\n",
      "Epoch 20/80\n",
      "54000/54000 [==============================] - 40s - loss: 0.0741 - acc: 0.9679 - val_loss: 0.0963 - val_acc: 0.9568\n",
      "Epoch 21/80\n",
      "54000/54000 [==============================] - 40s - loss: 0.0755 - acc: 0.9679 - val_loss: 0.1455 - val_acc: 0.9328\n",
      "Epoch 22/80\n",
      "54000/54000 [==============================] - 40s - loss: 0.0769 - acc: 0.9667 - val_loss: 0.0924 - val_acc: 0.9590\n",
      "Epoch 23/80\n",
      "54000/54000 [==============================] - 40s - loss: 0.0732 - acc: 0.9691 - val_loss: 0.1265 - val_acc: 0.9425\n",
      "Epoch 24/80\n",
      "54000/54000 [==============================] - 40s - loss: 0.0752 - acc: 0.9676 - val_loss: 0.1709 - val_acc: 0.9192\n",
      "Epoch 25/80\n",
      "54000/54000 [==============================] - 40s - loss: 0.0728 - acc: 0.9687 - val_loss: 0.1003 - val_acc: 0.9553\n",
      "Epoch 26/80\n",
      "54000/54000 [==============================] - 40s - loss: 0.0736 - acc: 0.9687 - val_loss: 0.1146 - val_acc: 0.9462\n",
      "Epoch 27/80\n",
      "53888/54000 [============================>.] - ETA: 0s - loss: 0.0745 - acc: 0.9685\n",
      "Epoch 00026: reducing learning rate to 1.0000000474974514e-05.\n",
      "54000/54000 [==============================] - 39s - loss: 0.0745 - acc: 0.9684 - val_loss: 0.1295 - val_acc: 0.9398\n",
      "Epoch 28/80\n",
      "54000/54000 [==============================] - 40s - loss: 0.0731 - acc: 0.9686 - val_loss: 0.1288 - val_acc: 0.9390\n",
      "Epoch 29/80\n",
      "54000/54000 [==============================] - 40s - loss: 0.0716 - acc: 0.9688 - val_loss: 0.1181 - val_acc: 0.9437\n",
      "Epoch 30/80\n",
      "54000/54000 [==============================] - 40s - loss: 0.0725 - acc: 0.9693 - val_loss: 0.1175 - val_acc: 0.9442\n",
      "Epoch 31/80\n",
      "53888/54000 [============================>.] - ETA: 0s - loss: 0.0715 - acc: 0.9690\n",
      "Epoch 00030: reducing learning rate to 1.0000000656873453e-06.\n",
      "54000/54000 [==============================] - 40s - loss: 0.0715 - acc: 0.9691 - val_loss: 0.1265 - val_acc: 0.9400\n",
      "Epoch 32/80\n",
      "54000/54000 [==============================] - 40s - loss: 0.0710 - acc: 0.9697 - val_loss: 0.1167 - val_acc: 0.9447\n",
      "Epoch 33/80\n",
      "54000/54000 [==============================] - 40s - loss: 0.0698 - acc: 0.9697 - val_loss: 0.1176 - val_acc: 0.9438\n",
      "Epoch 34/80\n",
      "54000/54000 [==============================] - 39s - loss: 0.0720 - acc: 0.9689 - val_loss: 0.1150 - val_acc: 0.9452\n",
      "Epoch 35/80\n",
      "54000/54000 [==============================] - 39s - loss: 0.0731 - acc: 0.9682 - val_loss: 0.1184 - val_acc: 0.9437\n",
      "Epoch 36/80\n",
      "54000/54000 [==============================] - 39s - loss: 0.0699 - acc: 0.9697 - val_loss: 0.1184 - val_acc: 0.9433\n",
      "Epoch 37/80\n",
      "54000/54000 [==============================] - 39s - loss: 0.0717 - acc: 0.9699 - val_loss: 0.1186 - val_acc: 0.9432\n",
      "Epoch 38/80\n",
      "54000/54000 [==============================] - 39s - loss: 0.0702 - acc: 0.9704 - val_loss: 0.1198 - val_acc: 0.9430\n",
      "Epoch 39/80\n",
      "54000/54000 [==============================] - 39s - loss: 0.0723 - acc: 0.9683 - val_loss: 0.1196 - val_acc: 0.9443\n",
      "Epoch 40/80\n",
      "54000/54000 [==============================] - 39s - loss: 0.0719 - acc: 0.9692 - val_loss: 0.1183 - val_acc: 0.9433\n",
      "Epoch 41/80\n",
      "54000/54000 [==============================] - 39s - loss: 0.0727 - acc: 0.9691 - val_loss: 0.1178 - val_acc: 0.9437\n",
      "Epoch 42/80\n",
      "54000/54000 [==============================] - 39s - loss: 0.0696 - acc: 0.9710 - val_loss: 0.1145 - val_acc: 0.9457\n",
      "Epoch 43/80\n",
      "54000/54000 [==============================] - 39s - loss: 0.0710 - acc: 0.9694 - val_loss: 0.1192 - val_acc: 0.9433\n",
      "Epoch 44/80\n",
      "54000/54000 [==============================] - 39s - loss: 0.0702 - acc: 0.9699 - val_loss: 0.1189 - val_acc: 0.9433\n",
      "Epoch 45/80\n",
      "54000/54000 [==============================] - 39s - loss: 0.0693 - acc: 0.9708 - val_loss: 0.1167 - val_acc: 0.9445\n",
      "Epoch 46/80\n",
      "54000/54000 [==============================] - 40s - loss: 0.0720 - acc: 0.9695 - val_loss: 0.1212 - val_acc: 0.9423\n",
      "Epoch 47/80\n",
      "54000/54000 [==============================] - 40s - loss: 0.0702 - acc: 0.9704 - val_loss: 0.1164 - val_acc: 0.9450\n",
      "Epoch 48/80\n",
      "54000/54000 [==============================] - 40s - loss: 0.0707 - acc: 0.9693 - val_loss: 0.1153 - val_acc: 0.9458\n",
      "Epoch 49/80\n",
      "54000/54000 [==============================] - 39s - loss: 0.0712 - acc: 0.9691 - val_loss: 0.1198 - val_acc: 0.9432\n",
      "Epoch 50/80\n",
      "54000/54000 [==============================] - 39s - loss: 0.0723 - acc: 0.9686 - val_loss: 0.1195 - val_acc: 0.9433\n",
      "Epoch 51/80\n",
      "54000/54000 [==============================] - 39s - loss: 0.0704 - acc: 0.9699 - val_loss: 0.1185 - val_acc: 0.9443\n",
      "Epoch 52/80\n",
      "54000/54000 [==============================] - 39s - loss: 0.0707 - acc: 0.9698 - val_loss: 0.1274 - val_acc: 0.9395\n",
      "Epoch 53/80\n",
      "54000/54000 [==============================] - 39s - loss: 0.0705 - acc: 0.9701 - val_loss: 0.1237 - val_acc: 0.9407\n",
      "Epoch 54/80\n",
      "54000/54000 [==============================] - 39s - loss: 0.0714 - acc: 0.9694 - val_loss: 0.1252 - val_acc: 0.9398\n",
      "Epoch 55/80\n",
      "54000/54000 [==============================] - 39s - loss: 0.0697 - acc: 0.9707 - val_loss: 0.1215 - val_acc: 0.9425\n",
      "Epoch 56/80\n",
      "54000/54000 [==============================] - 39s - loss: 0.0706 - acc: 0.9702 - val_loss: 0.1196 - val_acc: 0.9433\n",
      "Epoch 57/80\n",
      "54000/54000 [==============================] - 39s - loss: 0.0717 - acc: 0.9691 - val_loss: 0.1199 - val_acc: 0.9432\n",
      "Epoch 58/80\n",
      "54000/54000 [==============================] - 39s - loss: 0.0705 - acc: 0.9697 - val_loss: 0.1205 - val_acc: 0.9423\n",
      "Epoch 59/80\n",
      "54000/54000 [==============================] - 39s - loss: 0.0719 - acc: 0.9704 - val_loss: 0.1184 - val_acc: 0.9435\n",
      "Epoch 60/80\n"
     ]
    },
    {
     "name": "stdout",
     "output_type": "stream",
     "text": [
      "54000/54000 [==============================] - 39s - loss: 0.0703 - acc: 0.9703 - val_loss: 0.1231 - val_acc: 0.9407\n",
      "Epoch 61/80\n",
      "54000/54000 [==============================] - 39s - loss: 0.0727 - acc: 0.9688 - val_loss: 0.1217 - val_acc: 0.9417\n",
      "Epoch 62/80\n",
      "54000/54000 [==============================] - 39s - loss: 0.0715 - acc: 0.9698 - val_loss: 0.1247 - val_acc: 0.9400\n",
      "Epoch 63/80\n",
      "54000/54000 [==============================] - 39s - loss: 0.0710 - acc: 0.9695 - val_loss: 0.1189 - val_acc: 0.9438\n",
      "Epoch 64/80\n",
      "54000/54000 [==============================] - 39s - loss: 0.0705 - acc: 0.9702 - val_loss: 0.1260 - val_acc: 0.9392\n",
      "Epoch 65/80\n",
      "54000/54000 [==============================] - 39s - loss: 0.0707 - acc: 0.9701 - val_loss: 0.1215 - val_acc: 0.9422\n",
      "Epoch 66/80\n",
      "54000/54000 [==============================] - 39s - loss: 0.0707 - acc: 0.9697 - val_loss: 0.1249 - val_acc: 0.9395\n",
      "Epoch 67/80\n",
      "54000/54000 [==============================] - 39s - loss: 0.0711 - acc: 0.9698 - val_loss: 0.1196 - val_acc: 0.9432\n",
      "Epoch 68/80\n",
      "54000/54000 [==============================] - 39s - loss: 0.0718 - acc: 0.9693 - val_loss: 0.1236 - val_acc: 0.9413\n",
      "Epoch 69/80\n",
      "54000/54000 [==============================] - 39s - loss: 0.0703 - acc: 0.9695 - val_loss: 0.1202 - val_acc: 0.9433\n",
      "Epoch 70/80\n",
      "54000/54000 [==============================] - 39s - loss: 0.0729 - acc: 0.9685 - val_loss: 0.1269 - val_acc: 0.9395\n",
      "Epoch 71/80\n",
      "54000/54000 [==============================] - 39s - loss: 0.0727 - acc: 0.9689 - val_loss: 0.1160 - val_acc: 0.9452\n",
      "Epoch 72/80\n",
      "54000/54000 [==============================] - 39s - loss: 0.0731 - acc: 0.9688 - val_loss: 0.1219 - val_acc: 0.9417\n",
      "Epoch 73/80\n",
      "54000/54000 [==============================] - 39s - loss: 0.0726 - acc: 0.9696 - val_loss: 0.1232 - val_acc: 0.9412\n",
      "Epoch 74/80\n",
      "54000/54000 [==============================] - 40s - loss: 0.0721 - acc: 0.9699 - val_loss: 0.1182 - val_acc: 0.9445\n",
      "Epoch 75/80\n",
      "54000/54000 [==============================] - 39s - loss: 0.0705 - acc: 0.9706 - val_loss: 0.1150 - val_acc: 0.9467\n",
      "Epoch 76/80\n",
      "54000/54000 [==============================] - 39s - loss: 0.0722 - acc: 0.9692 - val_loss: 0.1250 - val_acc: 0.9400\n",
      "Epoch 77/80\n",
      "54000/54000 [==============================] - 39s - loss: 0.0718 - acc: 0.9693 - val_loss: 0.1204 - val_acc: 0.9428\n",
      "Epoch 78/80\n",
      "54000/54000 [==============================] - 39s - loss: 0.0711 - acc: 0.9695 - val_loss: 0.1182 - val_acc: 0.9443\n",
      "Epoch 79/80\n",
      "54000/54000 [==============================] - 39s - loss: 0.0730 - acc: 0.9684 - val_loss: 0.1135 - val_acc: 0.9470\n",
      "Epoch 80/80\n",
      "54000/54000 [==============================] - 39s - loss: 0.0716 - acc: 0.9697 - val_loss: 0.1207 - val_acc: 0.9427\n"
     ]
    }
   ],
   "source": [
    "it_psk_model.compile(loss='categorical_crossentropy',\n",
    "              optimizer=optimizers.Adam(lr=0.001, beta_1=0.9, beta_2=0.999, epsilon=1e-08),\n",
    "              metrics=['accuracy'])\n",
    "history = it_psk_model.fit(X_train, Y_train,\n",
    "                  epochs=80,\n",
    "                  batch_size=128,\n",
    "                  verbose=1,\n",
    "                  #validation_data=None)\n",
    "                  validation_data=(X_val, Y_val),\n",
    "                  callbacks=[learning_rate_reduction])  "
   ]
  },
  {
   "cell_type": "code",
   "execution_count": 7,
   "metadata": {},
   "outputs": [],
   "source": [
    "it_psk_model.save_weights('.\\\\res\\\\Net_weight\\\\model_weights_intraclass_psk.h5')"
   ]
  },
  {
   "cell_type": "code",
   "execution_count": 8,
   "metadata": {},
   "outputs": [
    {
     "data": {
      "image/png": "[encoded data removed]",
      "text/plain": [
       "<matplotlib.figure.Figure at 0x1408a47cb00>"
      ]
     },
     "metadata": {},
     "output_type": "display_data"
    }
   ],
   "source": [
    "# Plot the loss and accuracy curves for training and validation \n",
    "fig, ax = plt.subplots(2,1)\n",
    "ax[0].plot(history.history['loss'], color='b', label=\"Training loss\")\n",
    "ax[0].plot(history.history['val_loss'], color='r', label=\"validation loss\",axes =ax[0])\n",
    "legend = ax[0].legend(loc='best', shadow=True)\n",
    "\n",
    "ax[1].plot(history.history['acc'], color='b', label=\"Training accuracy\")\n",
    "ax[1].plot(history.history['val_acc'], color='r',label=\"Validation accuracy\")\n",
    "legend = ax[1].legend(loc='best', shadow=True)"
   ]
  },
  {
   "cell_type": "code",
   "execution_count": 12,
   "metadata": {},
   "outputs": [
    {
     "data": {
      "image/png": "[encoded data removed]",
      "text/plain": [
       "<matplotlib.figure.Figure at 0x141240b7198>"
      ]
     },
     "metadata": {},
     "output_type": "display_data"
    }
   ],
   "source": [
    "def plot_confusion_matrix(cm, classes,\n",
    "                          normalize=False,\n",
    "                          title='Confusion matrix',\n",
    "                          cmap=plt.cm.Blues):\n",
    "    \"\"\"\n",
    "    This function prints and plots the confusion matrix.\n",
    "    Normalization can be applied by setting `normalize=True`.\n",
    "    \"\"\"\n",
    "    plt.imshow(cm, interpolation='nearest', cmap=cmap)\n",
    "    plt.title(title)\n",
    "    plt.colorbar()\n",
    "    tick_marks = np.arange(len(intra_class_psk))\n",
    "    plt.xticks(tick_marks, intra_class_psk, rotation=45)\n",
    "    plt.yticks(tick_marks, intra_class_psk)\n",
    "\n",
    "    if normalize:\n",
    "        cm = cm.astype('float') / cm.sum(axis=1)[:, np.newaxis]\n",
    "\n",
    "    thresh = cm.max() / 2.\n",
    "    for i, j in itertools.product(range(cm.shape[0]), range(cm.shape[1])):\n",
    "        plt.text(j, i, cm[i, j],\n",
    "                 horizontalalignment=\"center\",\n",
    "                 color=\"white\" if cm[i, j] > thresh else \"black\")\n",
    "\n",
    "    plt.tight_layout()\n",
    "    plt.ylabel('True label')\n",
    "    plt.xlabel('Predicted label')\n",
    "\n",
    "# Predict the values from the validation dataset\n",
    "Y_pred = it_psk_model.predict(X_val)\n",
    "# Convert predictions classes to one hot vectors \n",
    "Y_pred_classes = np.argmax(Y_pred,axis = 1) \n",
    "# Convert validation observations to one hot vectors\n",
    "Y_true = np.argmax(Y_val,axis = 1) \n",
    "# compute the confusion matrix\n",
    "confusion_mtx = confusion_matrix(Y_true, Y_pred_classes) \n",
    "# plot the confusion matrix\n",
    "plot_confusion_matrix(confusion_mtx, normalize=False,classes = range(3)) "
   ]
  }
 ],
 "metadata": {
  "kernelspec": {
   "display_name": "Python 3",
   "language": "python",
   "name": "python3"
  },
  "language_info": {
   "codemirror_mode": {
    "name": "ipython",
    "version": 3
   },
   "file_extension": ".py",
   "mimetype": "text/x-python",
   "name": "python",
   "nbconvert_exporter": "python",
   "pygments_lexer": "ipython3",
   "version": "3.5.3"
  }
 },
 "nbformat": 4,
 "nbformat_minor": 2
}
