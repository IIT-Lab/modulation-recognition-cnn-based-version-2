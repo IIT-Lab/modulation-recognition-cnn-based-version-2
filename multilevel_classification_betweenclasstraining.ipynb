{
 "cells": [
  {
   "cell_type": "code",
   "execution_count": 1,
   "metadata": {},
   "outputs": [
    {
     "name": "stderr",
     "output_type": "stream",
     "text": [
      "Using TensorFlow backend.\n"
     ]
    }
   ],
   "source": [
    "import numpy as np\n",
    "import matplotlib.pyplot as plt\n",
    "%matplotlib inline\n",
    "from keras.layers import merge\n",
    "from keras.layers.convolutional import Conv2D\n",
    "from keras.layers.convolutional import MaxPooling2D, ZeroPadding2D, AveragePooling2D\n",
    "from keras.layers.core import Dense, Activation, Flatten, Reshape, Lambda\n",
    "from keras.layers.normalization import BatchNormalization\n",
    "from keras.models import Model\n",
    "from keras.layers import Input\n",
    "from keras.optimizers import SGD, adam\n",
    "import scipy.io as sio\n",
    "from keras import layers\n"
   ]
  },
  {
   "cell_type": "code",
   "execution_count": 2,
   "metadata": {},
   "outputs": [
    {
     "name": "stdout",
     "output_type": "stream",
     "text": [
      "(180000, 2, 1024)\n",
      "(180000, 4)\n"
     ]
    }
   ],
   "source": [
    "bt_class = ['MPSK','MQAM','MFSK','GMSK']\n",
    "inp_f = np.load('.\\\\dataset\\\\recognise\\\\fsk_data.npy')\n",
    "inp_p = np.load('.\\\\dataset\\\\recognise\\\\psk_data.npy')\n",
    "inp_q = np.load('.\\\\dataset\\\\recognise\\\\qam_data.npy')\n",
    "inp_g = np.load('.\\\\dataset\\\\recognise\\\\gmsk_data.npy')\n",
    "X = np.concatenate([inp_p,inp_q,inp_f,inp_g])\n",
    "print(X.shape)\n",
    "label_f = sio.loadmat('.\\\\dataset\\\\recognise\\\\fsk_label_onehot.mat')\n",
    "label_p = sio.loadmat('.\\\\dataset\\\\recognise\\\\psk_label_onehot.mat')\n",
    "label_q = sio.loadmat('.\\\\dataset\\\\recognise\\\\qam_label_onehot.mat')\n",
    "label_g = sio.loadmat('.\\\\dataset\\\\recognise\\\\gmsk_label_onehot.mat')\n",
    "Y = np.concatenate([label_p['between_class'], label_q['between_class'], label_f['between_class'], label_g['between_class']])\n",
    "print(Y.shape)"
   ]
  },
  {
   "cell_type": "code",
   "execution_count": 3,
   "metadata": {},
   "outputs": [
    {
     "name": "stderr",
     "output_type": "stream",
     "text": [
      "d:\\python35\\lib\\site-packages\\ipykernel_launcher.py:56: UserWarning: Update your `Conv2D` call to the Keras 2 API: `Conv2D(32, kernel_initializer=\"he_normal\", activation=None, strides=1, data_format=\"channels_last\", padding=\"same\", kernel_size=(1, 4))`\n",
      "d:\\python35\\lib\\site-packages\\ipykernel_launcher.py:9: UserWarning: Update your `Conv2D` call to the Keras 2 API: `Conv2D(16, kernel_initializer=\"he_normal\", activation=None, strides=1, data_format=\"channels_last\", padding=\"same\", kernel_size=(1, 4))`\n",
      "  if __name__ == '__main__':\n",
      "d:\\python35\\lib\\site-packages\\ipykernel_launcher.py:16: UserWarning: Update your `Conv2D` call to the Keras 2 API: `Conv2D(32, kernel_initializer=\"he_normal\", activation=None, strides=1, data_format=\"channels_last\", padding=\"same\", kernel_size=(1, 4))`\n",
      "  app.launch_new_instance()\n",
      "d:\\python35\\lib\\site-packages\\ipykernel_launcher.py:20: UserWarning: The `merge` function is deprecated and will be removed after 08/2017. Use instead layers from `keras.layers.merge`, e.g. `add`, `concatenate`, etc.\n",
      "d:\\python35\\lib\\site-packages\\keras\\legacy\\layers.py:458: UserWarning: The `Merge` layer is deprecated and will be removed after 08/2017. Use instead layers from `keras.layers.merge`, e.g. `add`, `concatenate`, etc.\n",
      "  name=name)\n",
      "d:\\python35\\lib\\site-packages\\ipykernel_launcher.py:66: UserWarning: Update your `Conv2D` call to the Keras 2 API: `Conv2D(32, kernel_initializer=\"he_normal\", activation=None, strides=1, data_format=\"channels_last\", padding=\"valid\", kernel_size=(2, 4))`\n",
      "d:\\python35\\lib\\site-packages\\ipykernel_launcher.py:30: UserWarning: Update your `Conv2D` call to the Keras 2 API: `Conv2D(32, kernel_initializer=\"he_normal\", activation=None, strides=1, data_format=\"channels_last\", padding=\"same\", kernel_size=(1, 4))`\n",
      "d:\\python35\\lib\\site-packages\\ipykernel_launcher.py:36: UserWarning: Update your `Conv2D` call to the Keras 2 API: `Conv2D(64, kernel_initializer=\"he_normal\", activation=None, strides=1, data_format=\"channels_last\", padding=\"same\", kernel_size=(1, 4))`\n",
      "d:\\python35\\lib\\site-packages\\ipykernel_launcher.py:41: UserWarning: Update your `Conv2D` call to the Keras 2 API: `Conv2D(64, kernel_initializer=\"he_normal\", activation=None, strides=1, data_format=\"channels_last\", padding=\"same\", kernel_size=(1, 4))`\n"
     ]
    },
    {
     "name": "stdout",
     "output_type": "stream",
     "text": [
      "____________________________________________________________________________________________________\n",
      "Layer (type)                     Output Shape          Param #     Connected to                     \n",
      "====================================================================================================\n",
      "input_1 (InputLayer)             (None, 2, 1024)       0                                            \n",
      "____________________________________________________________________________________________________\n",
      "reshape_1 (Reshape)              (None, 2, 1024, 1)    0           input_1[0][0]                    \n",
      "____________________________________________________________________________________________________\n",
      "conv2d_1 (Conv2D)                (None, 2, 1024, 32)   160         reshape_1[0][0]                  \n",
      "____________________________________________________________________________________________________\n",
      "batch_normalization_1 (BatchNorm (None, 2, 1024, 32)   128         conv2d_1[0][0]                   \n",
      "____________________________________________________________________________________________________\n",
      "activation_1 (Activation)        (None, 2, 1024, 32)   0           batch_normalization_1[0][0]      \n",
      "____________________________________________________________________________________________________\n",
      "conv2d_2 (Conv2D)                (None, 2, 1024, 16)   2064        activation_1[0][0]               \n",
      "____________________________________________________________________________________________________\n",
      "batch_normalization_2 (BatchNorm (None, 2, 1024, 16)   64          conv2d_2[0][0]                   \n",
      "____________________________________________________________________________________________________\n",
      "activation_2 (Activation)        (None, 2, 1024, 16)   0           batch_normalization_2[0][0]      \n",
      "____________________________________________________________________________________________________\n",
      "conv2d_3 (Conv2D)                (None, 2, 1024, 32)   2080        activation_2[0][0]               \n",
      "____________________________________________________________________________________________________\n",
      "batch_normalization_3 (BatchNorm (None, 2, 1024, 32)   128         conv2d_3[0][0]                   \n",
      "____________________________________________________________________________________________________\n",
      "activation_3 (Activation)        (None, 2, 1024, 32)   0           batch_normalization_3[0][0]      \n",
      "____________________________________________________________________________________________________\n",
      "merge_1 (Merge)                  (None, 2, 1024, 32)   0           activation_3[0][0]               \n",
      "                                                                   activation_1[0][0]               \n",
      "____________________________________________________________________________________________________\n",
      "conv2d_4 (Conv2D)                (None, 2, 1024, 16)   2064        merge_1[0][0]                    \n",
      "____________________________________________________________________________________________________\n",
      "batch_normalization_4 (BatchNorm (None, 2, 1024, 16)   64          conv2d_4[0][0]                   \n",
      "____________________________________________________________________________________________________\n",
      "activation_4 (Activation)        (None, 2, 1024, 16)   0           batch_normalization_4[0][0]      \n",
      "____________________________________________________________________________________________________\n",
      "conv2d_5 (Conv2D)                (None, 2, 1024, 32)   2080        activation_4[0][0]               \n",
      "____________________________________________________________________________________________________\n",
      "batch_normalization_5 (BatchNorm (None, 2, 1024, 32)   128         conv2d_5[0][0]                   \n",
      "____________________________________________________________________________________________________\n",
      "activation_5 (Activation)        (None, 2, 1024, 32)   0           batch_normalization_5[0][0]      \n",
      "____________________________________________________________________________________________________\n",
      "merge_2 (Merge)                  (None, 2, 1024, 32)   0           activation_5[0][0]               \n",
      "                                                                   merge_1[0][0]                    \n",
      "____________________________________________________________________________________________________\n",
      "conv2d_6 (Conv2D)                (None, 1, 1021, 32)   8224        merge_2[0][0]                    \n",
      "____________________________________________________________________________________________________\n",
      "batch_normalization_6 (BatchNorm (None, 1, 1021, 32)   128         conv2d_6[0][0]                   \n",
      "____________________________________________________________________________________________________\n",
      "activation_6 (Activation)        (None, 1, 1021, 32)   0           batch_normalization_6[0][0]      \n",
      "____________________________________________________________________________________________________\n",
      "conv2d_7 (Conv2D)                (None, 1, 1021, 32)   4128        activation_6[0][0]               \n",
      "____________________________________________________________________________________________________\n",
      "batch_normalization_7 (BatchNorm (None, 1, 1021, 32)   128         conv2d_7[0][0]                   \n",
      "____________________________________________________________________________________________________\n",
      "activation_7 (Activation)        (None, 1, 1021, 32)   0           batch_normalization_7[0][0]      \n",
      "____________________________________________________________________________________________________\n",
      "conv2d_8 (Conv2D)                (None, 1, 1021, 64)   8256        activation_7[0][0]               \n",
      "____________________________________________________________________________________________________\n",
      "conv2d_9 (Conv2D)                (None, 1, 1021, 64)   8256        activation_6[0][0]               \n",
      "____________________________________________________________________________________________________\n",
      "batch_normalization_8 (BatchNorm (None, 1, 1021, 64)   256         conv2d_8[0][0]                   \n",
      "____________________________________________________________________________________________________\n",
      "batch_normalization_9 (BatchNorm (None, 1, 1021, 64)   256         conv2d_9[0][0]                   \n",
      "____________________________________________________________________________________________________\n",
      "merge_3 (Merge)                  (None, 1, 1021, 64)   0           batch_normalization_8[0][0]      \n",
      "                                                                   batch_normalization_9[0][0]      \n",
      "____________________________________________________________________________________________________\n",
      "activation_8 (Activation)        (None, 1, 1021, 64)   0           merge_3[0][0]                    \n",
      "____________________________________________________________________________________________________\n",
      "conv2d_10 (Conv2D)               (None, 1, 1021, 32)   8224        activation_8[0][0]               \n",
      "____________________________________________________________________________________________________\n",
      "batch_normalization_10 (BatchNor (None, 1, 1021, 32)   128         conv2d_10[0][0]                  \n",
      "____________________________________________________________________________________________________\n",
      "activation_9 (Activation)        (None, 1, 1021, 32)   0           batch_normalization_10[0][0]     \n",
      "____________________________________________________________________________________________________\n",
      "conv2d_11 (Conv2D)               (None, 1, 1021, 64)   8256        activation_9[0][0]               \n",
      "____________________________________________________________________________________________________\n",
      "batch_normalization_11 (BatchNor (None, 1, 1021, 64)   256         conv2d_11[0][0]                  \n",
      "____________________________________________________________________________________________________\n",
      "activation_10 (Activation)       (None, 1, 1021, 64)   0           batch_normalization_11[0][0]     \n",
      "____________________________________________________________________________________________________\n",
      "merge_4 (Merge)                  (None, 1, 1021, 64)   0           activation_10[0][0]              \n",
      "                                                                   activation_8[0][0]               \n",
      "____________________________________________________________________________________________________\n",
      "global_average_pooling2d_1 (Glob (None, 64)            0           merge_4[0][0]                    \n",
      "____________________________________________________________________________________________________\n",
      "dense_1 (Dense)                  (None, 4)             260         global_average_pooling2d_1[0][0] \n",
      "====================================================================================================\n",
      "Total params: 55,716\n",
      "Trainable params: 54,884\n",
      "Non-trainable params: 832\n",
      "____________________________________________________________________________________________________\n"
     ]
    },
    {
     "name": "stderr",
     "output_type": "stream",
     "text": [
      "d:\\python35\\lib\\site-packages\\ipykernel_launcher.py:45: UserWarning: The `merge` function is deprecated and will be removed after 08/2017. Use instead layers from `keras.layers.merge`, e.g. `add`, `concatenate`, etc.\n",
      "d:\\python35\\lib\\site-packages\\ipykernel_launcher.py:9: UserWarning: Update your `Conv2D` call to the Keras 2 API: `Conv2D(32, kernel_initializer=\"he_normal\", activation=None, strides=1, data_format=\"channels_last\", padding=\"same\", kernel_size=(1, 4))`\n",
      "  if __name__ == '__main__':\n",
      "d:\\python35\\lib\\site-packages\\ipykernel_launcher.py:16: UserWarning: Update your `Conv2D` call to the Keras 2 API: `Conv2D(64, kernel_initializer=\"he_normal\", activation=None, strides=1, data_format=\"channels_last\", padding=\"same\", kernel_size=(1, 4))`\n",
      "  app.launch_new_instance()\n"
     ]
    }
   ],
   "source": [
    "# model for between-class\n",
    "\n",
    "def conv_block2(x, nb_filter = [16, 16], kernel_size = (1,4)):\n",
    "    k1, k2 = nb_filter\n",
    "    \n",
    "    #1\n",
    "    out = Conv2D(k1, kernel_size=kernel_size, strides=1, \n",
    "                        data_format='channels_last', padding='same',\n",
    "                        activation=None, init='he_normal')(x)\n",
    "    out = BatchNormalization()(out)\n",
    "    out = Activation('relu')(out)\n",
    "    \n",
    "    #2\n",
    "    out = Conv2D(k2, kernel_size=kernel_size, strides=1, \n",
    "                        data_format='channels_last', padding='same',\n",
    "                        activation=None, init='he_normal')(out)\n",
    "    out = BatchNormalization()(out)\n",
    "    out = Activation('relu')(out) \n",
    "    #3\n",
    "    out = merge([out,x],mode='sum')\n",
    "       \n",
    "    \n",
    "    return out\n",
    "\n",
    "def conv_block1(x, nb_filter = [16, 16], kernel_size = (1,4)):\n",
    "    k1, k2 = nb_filter\n",
    "    \n",
    "    out = Conv2D(k1, kernel_size=kernel_size, strides=1, \n",
    "                        data_format='channels_last', padding='same',\n",
    "                        activation=None, init='he_normal')(x)\n",
    "    out = BatchNormalization()(out)\n",
    "    out = Activation('relu')(out)\n",
    "    \n",
    "    out = Conv2D(k2, kernel_size=kernel_size, strides=1, \n",
    "                        data_format='channels_last', padding='same',\n",
    "                        activation=None, init='he_normal')(out)\n",
    "    out = BatchNormalization()(out)\n",
    "    \n",
    "    x = Conv2D(k2, kernel_size=kernel_size, strides=1, \n",
    "                        data_format='channels_last', padding='same',\n",
    "                        activation=None, init='he_normal')(x)\n",
    "    x = BatchNormalization()(x)\n",
    "    \n",
    "    \n",
    "    out = merge([out,x],mode='sum')\n",
    "    out = Activation('relu')(out)    \n",
    "    \n",
    "    return out\n",
    "def get_bt_model():\n",
    "        #init\n",
    "    inp = Input([2, 1024])\n",
    "    out = Reshape([2, 1024, 1])(inp)\n",
    "    #part1\n",
    "    out = Conv2D(32, kernel_size=(1, 4), strides=1, \n",
    "                        data_format='channels_last', padding='same',\n",
    "                        activation=None, init='he_normal')(out)\n",
    "    out = BatchNormalization()(out)\n",
    "    out = Activation('relu')(out)\n",
    "    \n",
    "    #part2\n",
    "    out = conv_block2(out, [16, 32])\n",
    "    out = conv_block2(out, [16, 32])\n",
    "    \n",
    "    out = Conv2D(32, kernel_size=(2, 4), strides=1, \n",
    "                        data_format='channels_last', padding='valid',\n",
    "                        activation=None, init='he_normal')(out)\n",
    "    out = BatchNormalization()(out)\n",
    "    out = Activation('relu')(out)\n",
    "    \n",
    "    out = conv_block1(out, [32, 64])\n",
    "    out = conv_block2(out, [32, 64])     \n",
    "\n",
    "    #out = conv_block2(out, [16, 16])\n",
    "    \n",
    "    #part3\n",
    "    out = layers.GlobalAveragePooling2D()(out)\n",
    "    out = Dense(len(bt_class), activation='softmax')(out)\n",
    "    #last\n",
    "\n",
    "    model = Model(inp, out)\n",
    "    return model\n",
    "bt_model = get_bt_model()\n",
    "bt_model.summary()"
   ]
  },
  {
   "cell_type": "code",
   "execution_count": 4,
   "metadata": {},
   "outputs": [
    {
     "name": "stdout",
     "output_type": "stream",
     "text": [
      "(162000, 2, 1024)\n",
      "(18000, 2, 1024)\n"
     ]
    }
   ],
   "source": [
    "# split trainingset and val set\n",
    "from sklearn.model_selection import train_test_split\n",
    "X_train, X_val, Y_train, Y_val = train_test_split(X, Y,\n",
    "                                                  test_size = 0.1, random_state=1)\n",
    "print(X_train.shape)\n",
    "print(X_val.shape)"
   ]
  },
  {
   "cell_type": "code",
   "execution_count": 5,
   "metadata": {},
   "outputs": [],
   "source": [
    "from keras.callbacks import ReduceLROnPlateau\n",
    "# Set a learning rate annealer\n",
    "learning_rate_reduction = ReduceLROnPlateau(monitor='val_loss', \n",
    "                                            patience=3, \n",
    "                                            verbose=1, \n",
    "                                            factor=0.1, \n",
    "                                            min_lr=1e-6,\n",
    "                                            mode='min')"
   ]
  },
  {
   "cell_type": "code",
   "execution_count": 6,
   "metadata": {},
   "outputs": [
    {
     "name": "stdout",
     "output_type": "stream",
     "text": [
      "Train on 162000 samples, validate on 18000 samples\n",
      "Epoch 1/15\n",
      "162000/162000 [==============================] - 250s - loss: 0.2664 - acc: 0.8920 - val_loss: 0.2298 - val_acc: 0.9107\n",
      "Epoch 2/15\n",
      "162000/162000 [==============================] - 231s - loss: 0.1189 - acc: 0.9560 - val_loss: 0.1008 - val_acc: 0.9608\n",
      "Epoch 3/15\n",
      "162000/162000 [==============================] - 231s - loss: 0.0965 - acc: 0.9636 - val_loss: 0.1655 - val_acc: 0.9283\n",
      "Epoch 4/15\n",
      "162000/162000 [==============================] - 231s - loss: 0.0840 - acc: 0.9685 - val_loss: 0.2299 - val_acc: 0.9037\n",
      "Epoch 5/15\n",
      "162000/162000 [==============================] - 230s - loss: 0.0758 - acc: 0.9717 - val_loss: 0.0611 - val_acc: 0.9774\n",
      "Epoch 6/15\n",
      "162000/162000 [==============================] - 231s - loss: 0.0704 - acc: 0.9735 - val_loss: 0.0880 - val_acc: 0.9646\n",
      "Epoch 7/15\n",
      "162000/162000 [==============================] - 231s - loss: 0.0657 - acc: 0.9754 - val_loss: 0.0745 - val_acc: 0.9718\n",
      "Epoch 8/15\n",
      "162000/162000 [==============================] - 231s - loss: 0.0609 - acc: 0.9771 - val_loss: 0.0617 - val_acc: 0.9784\n",
      "Epoch 9/15\n",
      "161920/162000 [============================>.] - ETA: 0s - loss: 0.0573 - acc: 0.9787\n",
      "Epoch 00008: reducing learning rate to 0.00010000000474974513.\n",
      "162000/162000 [==============================] - 231s - loss: 0.0573 - acc: 0.9787 - val_loss: 0.2241 - val_acc: 0.9177\n",
      "Epoch 10/15\n",
      "162000/162000 [==============================] - 230s - loss: 0.0433 - acc: 0.9840 - val_loss: 0.0415 - val_acc: 0.9847\n",
      "Epoch 11/15\n",
      "162000/162000 [==============================] - 230s - loss: 0.0401 - acc: 0.9855 - val_loss: 0.0475 - val_acc: 0.9817\n",
      "Epoch 12/15\n",
      "162000/162000 [==============================] - 230s - loss: 0.0388 - acc: 0.9859 - val_loss: 0.0411 - val_acc: 0.9844\n",
      "Epoch 13/15\n",
      "162000/162000 [==============================] - 230s - loss: 0.0380 - acc: 0.9861 - val_loss: 0.0398 - val_acc: 0.9851\n",
      "Epoch 14/15\n",
      "162000/162000 [==============================] - 230s - loss: 0.0372 - acc: 0.9866 - val_loss: 0.0403 - val_acc: 0.9839\n",
      "Epoch 15/15\n",
      "162000/162000 [==============================] - 230s - loss: 0.0365 - acc: 0.9869 - val_loss: 0.0504 - val_acc: 0.9805\n"
     ]
    }
   ],
   "source": [
    "from keras import optimizers\n",
    "bt_model.compile(loss='categorical_crossentropy',\n",
    "              optimizer=optimizers.Adam(lr=0.001, beta_1=0.9, beta_2=0.999, epsilon=1e-08),\n",
    "              metrics=['accuracy'])\n",
    "history = bt_model.fit(X_train, Y_train,\n",
    "                  epochs=15,\n",
    "                  batch_size=128,\n",
    "                  verbose=1,\n",
    "                  #validation_data=None)\n",
    "                  validation_data=(X_val, Y_val),\n",
    "                  callbacks=[learning_rate_reduction])  "
   ]
  },
  {
   "cell_type": "code",
   "execution_count": 8,
   "metadata": {},
   "outputs": [],
   "source": [
    "bt_model.save_weights('.\\\\res\\\\Net_weight\\\\model_weights_betweenclass.h5')"
   ]
  },
  {
   "cell_type": "code",
   "execution_count": 9,
   "metadata": {},
   "outputs": [
    {
     "data": {
      "image/png": "[encoded data removed]",
      "text/plain": [
       "<matplotlib.figure.Figure at 0x22fbfc6f5c0>"
      ]
     },
     "metadata": {},
     "output_type": "display_data"
    }
   ],
   "source": [
    "# Plot the loss and accuracy curves for training and validation \n",
    "fig, ax = plt.subplots(2,1)\n",
    "ax[0].plot(history.history['loss'], color='b', label=\"Training loss\")\n",
    "ax[0].plot(history.history['val_loss'], color='r', label=\"validation loss\",axes =ax[0])\n",
    "legend = ax[0].legend(loc='best', shadow=True)\n",
    "\n",
    "ax[1].plot(history.history['acc'], color='b', label=\"Training accuracy\")\n",
    "ax[1].plot(history.history['val_acc'], color='r',label=\"Validation accuracy\")\n",
    "legend = ax[1].legend(loc='best', shadow=True)"
   ]
  },
  {
   "cell_type": "code",
   "execution_count": 15,
   "metadata": {},
   "outputs": [
    {
     "data": {
      "image/png": "[encoded data removed]",
      "text/plain": [
       "<matplotlib.figure.Figure at 0x22fc1239588>"
      ]
     },
     "metadata": {},
     "output_type": "display_data"
    }
   ],
   "source": [
    "from sklearn.metrics import confusion_matrix\n",
    "import itertools\n",
    "def plot_confusion_matrix(cm, classes,\n",
    "                          normalize=False,\n",
    "                          title='Confusion matrix',\n",
    "                          cmap=plt.cm.Blues):\n",
    "    \"\"\"\n",
    "    This function prints and plots the confusion matrix.\n",
    "    Normalization can be applied by setting `normalize=True`.\n",
    "    \"\"\"\n",
    "    plt.imshow(cm, interpolation='nearest', cmap=cmap)\n",
    "    plt.title(title)\n",
    "    plt.colorbar()\n",
    "    tick_marks = np.arange(len(bt_class))\n",
    "    plt.xticks(tick_marks, bt_class, rotation=45)\n",
    "    plt.yticks(tick_marks, bt_class)\n",
    "\n",
    "    if normalize:\n",
    "        cm = cm.astype('float') / cm.sum(axis=1)[:, np.newaxis]\n",
    "\n",
    "    thresh = cm.max() / 2.\n",
    "    for i, j in itertools.product(range(cm.shape[0]), range(cm.shape[1])):\n",
    "        plt.text(j, i, cm[i, j],\n",
    "                 horizontalalignment=\"center\",\n",
    "                 color=\"white\" if cm[i, j] > thresh else \"black\")\n",
    "\n",
    "    plt.tight_layout()\n",
    "    plt.ylabel('True label')\n",
    "    plt.xlabel('Predicted label')\n",
    "\n",
    "# Predict the values from the validation dataset\n",
    "Y_pred = bt_model.predict(X_val)\n",
    "# Convert predictions classes to one hot vectors \n",
    "Y_pred_classes = np.argmax(Y_pred,axis = 1) \n",
    "# Convert validation observations to one hot vectors\n",
    "Y_true = np.argmax(Y_val,axis = 1) \n",
    "# compute the confusion matrix\n",
    "confusion_mtx = confusion_matrix(Y_true, Y_pred_classes) \n",
    "# plot the confusion matrix\n",
    "plot_confusion_matrix(confusion_mtx, normalize=False,classes = range(4)) "
   ]
  },
  {
   "cell_type": "code",
   "execution_count": null,
   "metadata": {},
   "outputs": [],
   "source": []
  }
 ],
 "metadata": {
  "kernelspec": {
   "display_name": "Python 3",
   "language": "python",
   "name": "python3"
  },
  "language_info": {
   "codemirror_mode": {
    "name": "ipython",
    "version": 3
   },
   "file_extension": ".py",
   "mimetype": "text/x-python",
   "name": "python",
   "nbconvert_exporter": "python",
   "pygments_lexer": "ipython3",
   "version": "3.5.3"
  }
 },
 "nbformat": 4,
 "nbformat_minor": 2
}
