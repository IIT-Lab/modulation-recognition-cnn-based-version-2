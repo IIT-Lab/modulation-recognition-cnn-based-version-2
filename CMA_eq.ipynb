{
 "cells": [
  {
   "cell_type": "code",
   "execution_count": 1,
   "metadata": {},
   "outputs": [
    {
     "name": "stdout",
     "output_type": "stream",
     "text": [
      "(1, 102400)\n",
      "<class 'numpy.complex64'>\n"
     ]
    }
   ],
   "source": [
    "import numpy as np\n",
    "import matplotlib.pylab as plt\n",
    "%matplotlib inline\n",
    "# load data\n",
    "import scipy.io as sio\n",
    "data_rec = sio.loadmat('.\\\\data\\\\eq_set\\\\rec_4psk')['x_4psk']\n",
    "data_cl = sio.loadmat('.\\\\data\\\\eq_set\\\\cl_4psk')['y_4psk']\n",
    "print(data_rec.shape)\n",
    "data_rec = data_rec.reshape([data_rec.shape[1],])\n",
    "data_cl = data_cl.reshape([data_cl.shape[1],])\n",
    "data_rec = data_rec.astype(dtype=np.complex64)\n",
    "data_cl = data_cl.astype(dtype=np.complex64)\n",
    "print(type(data_rec[0]))"
   ]
  },
  {
   "cell_type": "code",
   "execution_count": 2,
   "metadata": {},
   "outputs": [],
   "source": [
    "train_len = 1024*5\n",
    "x_train = data_rec[:train_len]\n",
    "x_val = data_rec[train_len:]\n",
    "y_train = data_cl[:train_len]\n",
    "y_val = data_cl[train_len:]"
   ]
  },
  {
   "cell_type": "code",
   "execution_count": 3,
   "metadata": {},
   "outputs": [],
   "source": [
    "R2 = np.mean(np.power(np.abs(y_train), 4))/np.mean(np.power(np.abs(y_train), 2))\n",
    "w_len = 50\n",
    "w = np.zeros([w_len, 1],dtype=np.complex64)\n",
    "w[w_len//2 -1] = 4. + 0.j\n",
    "x_len = len(x_train)\n",
    "epoch = 1000\n",
    "loss = np.zeros([epoch])\n",
    "step_size = 0.001\n",
    "mini_batch = 100"
   ]
  },
  {
   "cell_type": "code",
   "execution_count": 4,
   "metadata": {},
   "outputs": [
    {
     "name": "stdout",
     "output_type": "stream",
     "text": [
      "100\n",
      "200\n",
      "300\n",
      "400\n",
      "500\n",
      "600\n",
      "700\n",
      "800\n",
      "900\n",
      "1000\n"
     ]
    }
   ],
   "source": [
    "for i in range(1, epoch+1):\n",
    "    count = 0\n",
    "    x_batch = np.array([])\n",
    "    e = np.zeros([mini_batch], dtype=np.complex64)\n",
    "    for j in range(0, x_len-w_len+1):    \n",
    "        x = x_train[j:j+w_len]\n",
    "        x = x[-1::-1]\n",
    "        y = np.matmul(x.reshape([1,len(x)]), np.conj(w))[0][0]\n",
    "        e[count]=np.conj(y)*(np.square(np.abs(y))-R2).astype(np.complex64)\n",
    "        count += 1\n",
    "        if count == 1:\n",
    "            x_batch = np.concatenate([x_batch, x])\n",
    "        else:\n",
    "            x_batch = np.concatenate([np.array([x[0]]), x_batch])\n",
    "        if count == mini_batch:\n",
    "            dw = np.zeros([w_len, 1], dtype=np.complex64)\n",
    "            for k in range(w_len):\n",
    "                x = x_batch[k:k+count]\n",
    "                x = x[-1::-1]\n",
    "                dw[k] = np.matmul(np.reshape(e, [1, -1]), np.reshape(x, [-1, 1]))\n",
    "            w = w - step_size * dw\n",
    "            count = 0\n",
    "            x_batch = np.array([])\n",
    "    if i%100 == 0:\n",
    "        print(i)"
   ]
  },
  {
   "cell_type": "code",
   "execution_count": 10,
   "metadata": {},
   "outputs": [
    {
     "name": "stdout",
     "output_type": "stream",
     "text": [
      "(97231,)\n",
      "(5071,)\n"
     ]
    },
    {
     "data": {
      "text/plain": [
       "[<matplotlib.lines.Line2D at 0x29f49e77080>]"
      ]
     },
     "execution_count": 10,
     "metadata": {},
     "output_type": "execute_result"
    },
    {
     "data": {
      "image/png": "[encoded data removed]",
      "text/plain": [
       "<matplotlib.figure.Figure at 0x29f49df37b8>"
      ]
     },
     "metadata": {},
     "output_type": "display_data"
    }
   ],
   "source": [
    "def conv(x, w):\n",
    "    # valid mod\n",
    "    w_len = len(w)\n",
    "    x_len = len(x)\n",
    "    y_pred = np.zeros([x_len-w_len+1], dtype=np.complex64)\n",
    "    for i in range(0, x_len-w_len+1):\n",
    "        y_pred[i] = np.matmul(x[i:i+w_len], np.conj(w))\n",
    "    return np.reshape(y_pred, [-1])\n",
    "\n",
    "y_hat = conv(x_val[-1::-1], w)\n",
    "\n",
    "# cma cannot rectify the phase\n",
    "plt.figure()\n",
    "plt.plot(np.real(x_val), np.imag(x_val),'.')\n",
    "plt.plot(np.real(y_hat), np.imag(y_hat),'.b')\n",
    "plt.plot(np.real(y_val), np.imag(y_val),'.r')"
   ]
  },
  {
   "cell_type": "code",
   "execution_count": null,
   "metadata": {},
   "outputs": [],
   "source": []
  }
 ],
 "metadata": {
  "kernelspec": {
   "display_name": "Python 3",
   "language": "python",
   "name": "python3"
  },
  "language_info": {
   "codemirror_mode": {
    "name": "ipython",
    "version": 3
   },
   "file_extension": ".py",
   "mimetype": "text/x-python",
   "name": "python",
   "nbconvert_exporter": "python",
   "pygments_lexer": "ipython3",
   "version": "3.5.3"
  }
 },
 "nbformat": 4,
 "nbformat_minor": 2
}
